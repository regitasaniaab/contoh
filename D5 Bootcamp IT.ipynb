{
 "cells": [
  {
   "cell_type": "markdown",
   "id": "052d231f",
   "metadata": {},
   "source": [
    "# 1"
   ]
  },
  {
   "cell_type": "code",
   "execution_count": 110,
   "id": "9a07474f",
   "metadata": {},
   "outputs": [],
   "source": [
    "f = open(\"teks.txt\", \"w\")\n",
    "f.write(\"Pelatihan kita di LPPI Kemang dengan waktu yang telah ditentukan!!\")\n",
    "f.close()"
   ]
  },
  {
   "cell_type": "code",
   "execution_count": 111,
   "id": "158e3490",
   "metadata": {},
   "outputs": [],
   "source": [
    "f = open(\"teks.txt\", \"r\")\n",
    "f.read()\n",
    "f.close()"
   ]
  },
  {
   "cell_type": "code",
   "execution_count": 112,
   "id": "49bc84a3",
   "metadata": {},
   "outputs": [],
   "source": [
    "import re\n",
    "def modify(file, char):\n",
    "    with open('teks.txt') as f:\n",
    "        lines = [line.rstrip('\\n') for line in f]\n",
    "    lines = lines[0].split()\n",
    "    awal = lines[:char]\n",
    "    akhir = lines[char:]\n",
    "    \n",
    "    f = open('teks.txt', 'w') #w write (menimpa yg sebelumnya)\n",
    "    f.write(' '.join([str(i) for i in awal]) + ' dari pagi sampai sore ' \n",
    "            + ' '.join([str(i) for i in akhir]))\n",
    "    f.close()"
   ]
  },
  {
   "cell_type": "code",
   "execution_count": 113,
   "id": "4df1e6c4",
   "metadata": {},
   "outputs": [],
   "source": [
    "modify('teks.txt', 6)"
   ]
  },
  {
   "cell_type": "code",
   "execution_count": 114,
   "id": "81231e07",
   "metadata": {},
   "outputs": [
    {
     "data": {
      "text/plain": [
       "'Pelatihan kita di LPPI Kemang dengan dari pagi sampai sore waktu yang telah ditentukan!!'"
      ]
     },
     "execution_count": 114,
     "metadata": {},
     "output_type": "execute_result"
    }
   ],
   "source": [
    "f = open('teks.txt')\n",
    "f.read()"
   ]
  },
  {
   "cell_type": "markdown",
   "id": "74d06250",
   "metadata": {},
   "source": [
    "# 2"
   ]
  },
  {
   "cell_type": "code",
   "execution_count": 61,
   "id": "d5cc29ce",
   "metadata": {},
   "outputs": [
    {
     "name": "stdout",
     "output_type": "stream",
     "text": [
      "Nama : Ani\n",
      "Ruang : a\n",
      "Skema : a\n"
     ]
    }
   ],
   "source": [
    "def writing(nama):\n",
    "    with open('ex2.txt', 'a') as f:\n",
    "        f.write(f'Hasil perhitungan Desimal, Octal, Biner, dan Hexa dari huruf {nama} adalah \\n')\n",
    "        \n",
    "    result = ''\n",
    "\n",
    "    for i in range(len(nama)):\n",
    "        desimal1 = ord(nama[i])\n",
    "\n",
    "        biner = ''\n",
    "        oktal = ''\n",
    "        hexa = ''\n",
    "\n",
    "        #binary\n",
    "        desimal = desimal1\n",
    "        while desimal > 0:\n",
    "            sisa = desimal % 2\n",
    "            biner = str(sisa) + biner\n",
    "            desimal //= 2\n",
    "\n",
    "        #octal\n",
    "        desimal = desimal1\n",
    "        while desimal > 0:\n",
    "            sisa = desimal % 8\n",
    "            oktal = str(sisa) + oktal\n",
    "            desimal //= 8\n",
    "\n",
    "        #hexadecimal\n",
    "        hex_chars = \"0123456789ABCDEF\"\n",
    "        desimal = desimal1\n",
    "        while desimal > 0:\n",
    "             sisa = desimal % 16\n",
    "             hexa = hex_chars[sisa] + hexa\n",
    "             desimal //= 16\n",
    "        \n",
    "        result = f\"{nama[i]} = {desimal1}, {biner}, {oktal}, {hexa} \\n\"\n",
    "        \n",
    "        f = open('ex2.txt', 'a')\n",
    "        f.write(result)\n",
    "        f.close()\n",
    "        \n",
    "nama = input(\"Nama : \")\n",
    "ruang = input(\"Ruang : \")\n",
    "Skema = input(\"Skema : \")\n",
    "writing(nama)"
   ]
  },
  {
   "cell_type": "markdown",
   "id": "8165ff9e",
   "metadata": {},
   "source": [
    "# 3"
   ]
  },
  {
   "cell_type": "code",
   "execution_count": 228,
   "id": "7cf63cba",
   "metadata": {
    "scrolled": true
   },
   "outputs": [
    {
     "name": "stdout",
     "output_type": "stream",
     "text": [
      "Requirement already satisfied: mysql-connector-python in /Users/regita/anaconda3/lib/python3.11/site-packages (8.3.0)\n",
      "Note: you may need to restart the kernel to use updated packages.\n"
     ]
    }
   ],
   "source": [
    "pip install mysql-connector-python"
   ]
  },
  {
   "cell_type": "code",
   "execution_count": 229,
   "id": "7f627f92",
   "metadata": {},
   "outputs": [],
   "source": [
    "import mysql.connector"
   ]
  },
  {
   "cell_type": "code",
   "execution_count": 262,
   "id": "2c7be302",
   "metadata": {},
   "outputs": [],
   "source": [
    "mydb = mysql.connector.connect(\n",
    "    host = \"localhost\",\n",
    "    user = \"root\",\n",
    "    password = \"\",\n",
    "    database = \"sakila\"\n",
    ")"
   ]
  },
  {
   "cell_type": "code",
   "execution_count": 264,
   "id": "2cc903b3",
   "metadata": {},
   "outputs": [],
   "source": [
    "lat = mydb.cursor()"
   ]
  },
  {
   "cell_type": "code",
   "execution_count": 131,
   "id": "2dc4b5af",
   "metadata": {},
   "outputs": [
    {
     "name": "stdout",
     "output_type": "stream",
     "text": [
      "1 record inserted.\n"
     ]
    }
   ],
   "source": [
    "sql = \"INSERT INTO actor (first_name, last_name, ) VALUES (%s, %s)\"\n",
    "val = (\"John\", \"Highway\")\n",
    "lat.execute(sql, val)\n",
    "\n",
    "mydb.commit()\n",
    "\n",
    "print(lat.rowcount, \"record(s) inserted.\")"
   ]
  },
  {
   "cell_type": "code",
   "execution_count": 136,
   "id": "c5c15c57",
   "metadata": {},
   "outputs": [
    {
     "name": "stdout",
     "output_type": "stream",
     "text": [
      "1 record inserted.\n"
     ]
    }
   ],
   "source": [
    "sql = \"UPDATE actor SET first_name=%s, last_name=%s WHERE actor_id=%s\"\n",
    "val = (\"Anne\", \"Gal\", 202)\n",
    "lat.execute(sql, val)\n",
    "\n",
    "mydb.commit()\n",
    "\n",
    "print(lat.rowcount, \"record(s) updated.\")"
   ]
  },
  {
   "cell_type": "code",
   "execution_count": 145,
   "id": "24acca12",
   "metadata": {},
   "outputs": [
    {
     "name": "stdout",
     "output_type": "stream",
     "text": [
      "2 record(s) inserted.\n"
     ]
    }
   ],
   "source": [
    "sql = \"INSERT INTO actor (first_name, last_name) VALUES (%s, %s)\"\n",
    "val = [\n",
    "    (\"Michele\", \"Choi\"),\n",
    "    (\"Nelly\", \"Carpenter\")\n",
    "]\n",
    "lat.executemany(sql, val)\n",
    "\n",
    "mydb.commit()\n",
    "\n",
    "print(lat.rowcount, \"record(s) inserted.\")"
   ]
  },
  {
   "cell_type": "code",
   "execution_count": 188,
   "id": "2363f952",
   "metadata": {},
   "outputs": [
    {
     "name": "stdout",
     "output_type": "stream",
     "text": [
      "1 record(s) deleted.\n"
     ]
    }
   ],
   "source": [
    "sql = \"DELETE FROM actor WHERE last_name = 'Carpenter'\"\n",
    "# sql = \"DELETE FROM actor WHERE actor_id = 201 AND actor_id = 202\"\n",
    "lat.execute(sql)\n",
    "\n",
    "mydb.commit()\n",
    "\n",
    "print(lat.rowcount, \"record(s) deleted.\")"
   ]
  },
  {
   "cell_type": "code",
   "execution_count": 191,
   "id": "f5ccf159",
   "metadata": {},
   "outputs": [
    {
     "name": "stdout",
     "output_type": "stream",
     "text": [
      "2 record(s) updated.\n"
     ]
    }
   ],
   "source": [
    "sql = \"UPDATE actor SET actor_id=%s WHERE last_name=%s\"\n",
    "val = [\n",
    "    (201, \"Gal\"),\n",
    "    (202, \"Choi\")\n",
    "]\n",
    "lat.executemany(sql, val)\n",
    "\n",
    "mydb.commit()\n",
    "\n",
    "print(lat.rowcount, \"record(s) updated.\")"
   ]
  },
  {
   "cell_type": "code",
   "execution_count": 250,
   "id": "40a96151",
   "metadata": {},
   "outputs": [],
   "source": [
    "lat.execute(\"select * from actor\")\n",
    "myresult = lat.fetchall()"
   ]
  },
  {
   "cell_type": "code",
   "execution_count": 260,
   "id": "bf91fe53",
   "metadata": {},
   "outputs": [
    {
     "name": "stderr",
     "output_type": "stream",
     "text": [
      "/var/folders/hz/213j1qjd4cx4s8qq5rvxmsy40000gn/T/ipykernel_2913/1738421309.py:1: UserWarning: pandas only supports SQLAlchemy connectable (engine/connection) or database string URI or sqlite3 DBAPI2 connection. Other DBAPI2 objects are not tested. Please consider using SQLAlchemy.\n",
      "  sql_query = pd.read_sql_query ('''\n"
     ]
    },
    {
     "ename": "OperationalError",
     "evalue": "MySQL Connection not available.",
     "output_type": "error",
     "traceback": [
      "\u001b[0;31m---------------------------------------------------------------------------\u001b[0m",
      "\u001b[0;31mOperationalError\u001b[0m                          Traceback (most recent call last)",
      "Cell \u001b[0;32mIn[260], line 1\u001b[0m\n\u001b[0;32m----> 1\u001b[0m sql_query \u001b[38;5;241m=\u001b[39m pd\u001b[38;5;241m.\u001b[39mread_sql_query (\u001b[38;5;124m'''\u001b[39m\n\u001b[1;32m      2\u001b[0m \u001b[38;5;124m                               SELECT * FROM actor\u001b[39m\n\u001b[1;32m      3\u001b[0m \u001b[38;5;124m                               \u001b[39m\u001b[38;5;124m'''\u001b[39m, mydb)\n\u001b[1;32m      5\u001b[0m df \u001b[38;5;241m=\u001b[39m pd\u001b[38;5;241m.\u001b[39mDataFrame(sql_query)\n\u001b[1;32m      6\u001b[0m df\n",
      "File \u001b[0;32m~/anaconda3/lib/python3.11/site-packages/pandas/io/sql.py:469\u001b[0m, in \u001b[0;36mread_sql_query\u001b[0;34m(sql, con, index_col, coerce_float, params, parse_dates, chunksize, dtype, dtype_backend)\u001b[0m\n\u001b[1;32m    466\u001b[0m     dtype_backend \u001b[38;5;241m=\u001b[39m \u001b[38;5;124m\"\u001b[39m\u001b[38;5;124mnumpy\u001b[39m\u001b[38;5;124m\"\u001b[39m  \u001b[38;5;66;03m# type: ignore[assignment]\u001b[39;00m\n\u001b[1;32m    468\u001b[0m \u001b[38;5;28;01mwith\u001b[39;00m pandasSQL_builder(con) \u001b[38;5;28;01mas\u001b[39;00m pandas_sql:\n\u001b[0;32m--> 469\u001b[0m     \u001b[38;5;28;01mreturn\u001b[39;00m pandas_sql\u001b[38;5;241m.\u001b[39mread_query(\n\u001b[1;32m    470\u001b[0m         sql,\n\u001b[1;32m    471\u001b[0m         index_col\u001b[38;5;241m=\u001b[39mindex_col,\n\u001b[1;32m    472\u001b[0m         params\u001b[38;5;241m=\u001b[39mparams,\n\u001b[1;32m    473\u001b[0m         coerce_float\u001b[38;5;241m=\u001b[39mcoerce_float,\n\u001b[1;32m    474\u001b[0m         parse_dates\u001b[38;5;241m=\u001b[39mparse_dates,\n\u001b[1;32m    475\u001b[0m         chunksize\u001b[38;5;241m=\u001b[39mchunksize,\n\u001b[1;32m    476\u001b[0m         dtype\u001b[38;5;241m=\u001b[39mdtype,\n\u001b[1;32m    477\u001b[0m         dtype_backend\u001b[38;5;241m=\u001b[39mdtype_backend,\n\u001b[1;32m    478\u001b[0m     )\n",
      "File \u001b[0;32m~/anaconda3/lib/python3.11/site-packages/pandas/io/sql.py:2266\u001b[0m, in \u001b[0;36mSQLiteDatabase.read_query\u001b[0;34m(self, sql, index_col, coerce_float, parse_dates, params, chunksize, dtype, dtype_backend)\u001b[0m\n\u001b[1;32m   2255\u001b[0m \u001b[38;5;28;01mdef\u001b[39;00m \u001b[38;5;21mread_query\u001b[39m(\n\u001b[1;32m   2256\u001b[0m     \u001b[38;5;28mself\u001b[39m,\n\u001b[1;32m   2257\u001b[0m     sql,\n\u001b[0;32m   (...)\u001b[0m\n\u001b[1;32m   2264\u001b[0m     dtype_backend: DtypeBackend \u001b[38;5;241m|\u001b[39m Literal[\u001b[38;5;124m\"\u001b[39m\u001b[38;5;124mnumpy\u001b[39m\u001b[38;5;124m\"\u001b[39m] \u001b[38;5;241m=\u001b[39m \u001b[38;5;124m\"\u001b[39m\u001b[38;5;124mnumpy\u001b[39m\u001b[38;5;124m\"\u001b[39m,\n\u001b[1;32m   2265\u001b[0m ) \u001b[38;5;241m-\u001b[39m\u001b[38;5;241m>\u001b[39m DataFrame \u001b[38;5;241m|\u001b[39m Iterator[DataFrame]:\n\u001b[0;32m-> 2266\u001b[0m     cursor \u001b[38;5;241m=\u001b[39m \u001b[38;5;28mself\u001b[39m\u001b[38;5;241m.\u001b[39mexecute(sql, params)\n\u001b[1;32m   2267\u001b[0m     columns \u001b[38;5;241m=\u001b[39m [col_desc[\u001b[38;5;241m0\u001b[39m] \u001b[38;5;28;01mfor\u001b[39;00m col_desc \u001b[38;5;129;01min\u001b[39;00m cursor\u001b[38;5;241m.\u001b[39mdescription]\n\u001b[1;32m   2269\u001b[0m     \u001b[38;5;28;01mif\u001b[39;00m chunksize \u001b[38;5;129;01mis\u001b[39;00m \u001b[38;5;129;01mnot\u001b[39;00m \u001b[38;5;28;01mNone\u001b[39;00m:\n",
      "File \u001b[0;32m~/anaconda3/lib/python3.11/site-packages/pandas/io/sql.py:2200\u001b[0m, in \u001b[0;36mSQLiteDatabase.execute\u001b[0;34m(self, sql, params)\u001b[0m\n\u001b[1;32m   2198\u001b[0m     \u001b[38;5;28;01mraise\u001b[39;00m \u001b[38;5;167;01mTypeError\u001b[39;00m(\u001b[38;5;124m\"\u001b[39m\u001b[38;5;124mQuery must be a string unless using sqlalchemy.\u001b[39m\u001b[38;5;124m\"\u001b[39m)\n\u001b[1;32m   2199\u001b[0m args \u001b[38;5;241m=\u001b[39m [] \u001b[38;5;28;01mif\u001b[39;00m params \u001b[38;5;129;01mis\u001b[39;00m \u001b[38;5;28;01mNone\u001b[39;00m \u001b[38;5;28;01melse\u001b[39;00m [params]\n\u001b[0;32m-> 2200\u001b[0m cur \u001b[38;5;241m=\u001b[39m \u001b[38;5;28mself\u001b[39m\u001b[38;5;241m.\u001b[39mcon\u001b[38;5;241m.\u001b[39mcursor()\n\u001b[1;32m   2201\u001b[0m \u001b[38;5;28;01mtry\u001b[39;00m:\n\u001b[1;32m   2202\u001b[0m     cur\u001b[38;5;241m.\u001b[39mexecute(sql, \u001b[38;5;241m*\u001b[39margs)\n",
      "File \u001b[0;32m~/anaconda3/lib/python3.11/site-packages/mysql/connector/connection_cext.py:728\u001b[0m, in \u001b[0;36mCMySQLConnection.cursor\u001b[0;34m(self, buffered, raw, prepared, cursor_class, dictionary, named_tuple)\u001b[0m\n\u001b[1;32m    726\u001b[0m \u001b[38;5;28mself\u001b[39m\u001b[38;5;241m.\u001b[39mhandle_unread_result(prepared)\n\u001b[1;32m    727\u001b[0m \u001b[38;5;28;01mif\u001b[39;00m \u001b[38;5;129;01mnot\u001b[39;00m \u001b[38;5;28mself\u001b[39m\u001b[38;5;241m.\u001b[39mis_connected():\n\u001b[0;32m--> 728\u001b[0m     \u001b[38;5;28;01mraise\u001b[39;00m OperationalError(\u001b[38;5;124m\"\u001b[39m\u001b[38;5;124mMySQL Connection not available.\u001b[39m\u001b[38;5;124m\"\u001b[39m)\n\u001b[1;32m    729\u001b[0m \u001b[38;5;28;01mif\u001b[39;00m cursor_class \u001b[38;5;129;01mis\u001b[39;00m \u001b[38;5;129;01mnot\u001b[39;00m \u001b[38;5;28;01mNone\u001b[39;00m:\n\u001b[1;32m    730\u001b[0m     \u001b[38;5;28;01mif\u001b[39;00m \u001b[38;5;129;01mnot\u001b[39;00m \u001b[38;5;28missubclass\u001b[39m(cursor_class, CMySQLCursor):\n",
      "\u001b[0;31mOperationalError\u001b[0m: MySQL Connection not available."
     ]
    }
   ],
   "source": [
    "sql_query = pd.read_sql_query ('''\n",
    "                               SELECT * FROM actor\n",
    "                               ''', mydb)\n",
    "\n",
    "df = pd.DataFrame(sql_query)\n",
    "df"
   ]
  },
  {
   "cell_type": "code",
   "execution_count": 200,
   "id": "2a41ab3b",
   "metadata": {},
   "outputs": [
    {
     "name": "stdout",
     "output_type": "stream",
     "text": [
      "1 record(s) deleted.\n"
     ]
    }
   ],
   "source": [
    "sql = \"DELETE FROM actor WHERE last_name = 'Gal'\"\n",
    "# sql = \"DELETE FROM actor WHERE actor_id = 201 AND actor_id = 202\"\n",
    "lat.execute(sql)\n",
    "\n",
    "mydb.commit()\n",
    "\n",
    "print(lat.rowcount, \"record(s) deleted.\")"
   ]
  },
  {
   "cell_type": "code",
   "execution_count": 252,
   "id": "6b3eb3f1",
   "metadata": {},
   "outputs": [],
   "source": [
    "lat.execute(\"select * from film\")\n",
    "myresult = lat.fetchall()"
   ]
  },
  {
   "cell_type": "code",
   "execution_count": 279,
   "id": "6d9c49c0",
   "metadata": {},
   "outputs": [
    {
     "name": "stderr",
     "output_type": "stream",
     "text": [
      "/var/folders/hz/213j1qjd4cx4s8qq5rvxmsy40000gn/T/ipykernel_2913/1738421309.py:1: UserWarning: pandas only supports SQLAlchemy connectable (engine/connection) or database string URI or sqlite3 DBAPI2 connection. Other DBAPI2 objects are not tested. Please consider using SQLAlchemy.\n",
      "  sql_query = pd.read_sql_query ('''\n"
     ]
    },
    {
     "ename": "OperationalError",
     "evalue": "MySQL Connection not available.",
     "output_type": "error",
     "traceback": [
      "\u001b[0;31m---------------------------------------------------------------------------\u001b[0m",
      "\u001b[0;31mOperationalError\u001b[0m                          Traceback (most recent call last)",
      "Cell \u001b[0;32mIn[279], line 1\u001b[0m\n\u001b[0;32m----> 1\u001b[0m sql_query \u001b[38;5;241m=\u001b[39m pd\u001b[38;5;241m.\u001b[39mread_sql_query (\u001b[38;5;124m'''\u001b[39m\n\u001b[1;32m      2\u001b[0m \u001b[38;5;124m                               SELECT * FROM actor\u001b[39m\n\u001b[1;32m      3\u001b[0m \u001b[38;5;124m                               \u001b[39m\u001b[38;5;124m'''\u001b[39m, mydb)\n\u001b[1;32m      5\u001b[0m df \u001b[38;5;241m=\u001b[39m pd\u001b[38;5;241m.\u001b[39mDataFrame(sql_query)\n\u001b[1;32m      6\u001b[0m df\n",
      "File \u001b[0;32m~/anaconda3/lib/python3.11/site-packages/pandas/io/sql.py:469\u001b[0m, in \u001b[0;36mread_sql_query\u001b[0;34m(sql, con, index_col, coerce_float, params, parse_dates, chunksize, dtype, dtype_backend)\u001b[0m\n\u001b[1;32m    466\u001b[0m     dtype_backend \u001b[38;5;241m=\u001b[39m \u001b[38;5;124m\"\u001b[39m\u001b[38;5;124mnumpy\u001b[39m\u001b[38;5;124m\"\u001b[39m  \u001b[38;5;66;03m# type: ignore[assignment]\u001b[39;00m\n\u001b[1;32m    468\u001b[0m \u001b[38;5;28;01mwith\u001b[39;00m pandasSQL_builder(con) \u001b[38;5;28;01mas\u001b[39;00m pandas_sql:\n\u001b[0;32m--> 469\u001b[0m     \u001b[38;5;28;01mreturn\u001b[39;00m pandas_sql\u001b[38;5;241m.\u001b[39mread_query(\n\u001b[1;32m    470\u001b[0m         sql,\n\u001b[1;32m    471\u001b[0m         index_col\u001b[38;5;241m=\u001b[39mindex_col,\n\u001b[1;32m    472\u001b[0m         params\u001b[38;5;241m=\u001b[39mparams,\n\u001b[1;32m    473\u001b[0m         coerce_float\u001b[38;5;241m=\u001b[39mcoerce_float,\n\u001b[1;32m    474\u001b[0m         parse_dates\u001b[38;5;241m=\u001b[39mparse_dates,\n\u001b[1;32m    475\u001b[0m         chunksize\u001b[38;5;241m=\u001b[39mchunksize,\n\u001b[1;32m    476\u001b[0m         dtype\u001b[38;5;241m=\u001b[39mdtype,\n\u001b[1;32m    477\u001b[0m         dtype_backend\u001b[38;5;241m=\u001b[39mdtype_backend,\n\u001b[1;32m    478\u001b[0m     )\n",
      "File \u001b[0;32m~/anaconda3/lib/python3.11/site-packages/pandas/io/sql.py:2266\u001b[0m, in \u001b[0;36mSQLiteDatabase.read_query\u001b[0;34m(self, sql, index_col, coerce_float, parse_dates, params, chunksize, dtype, dtype_backend)\u001b[0m\n\u001b[1;32m   2255\u001b[0m \u001b[38;5;28;01mdef\u001b[39;00m \u001b[38;5;21mread_query\u001b[39m(\n\u001b[1;32m   2256\u001b[0m     \u001b[38;5;28mself\u001b[39m,\n\u001b[1;32m   2257\u001b[0m     sql,\n\u001b[0;32m   (...)\u001b[0m\n\u001b[1;32m   2264\u001b[0m     dtype_backend: DtypeBackend \u001b[38;5;241m|\u001b[39m Literal[\u001b[38;5;124m\"\u001b[39m\u001b[38;5;124mnumpy\u001b[39m\u001b[38;5;124m\"\u001b[39m] \u001b[38;5;241m=\u001b[39m \u001b[38;5;124m\"\u001b[39m\u001b[38;5;124mnumpy\u001b[39m\u001b[38;5;124m\"\u001b[39m,\n\u001b[1;32m   2265\u001b[0m ) \u001b[38;5;241m-\u001b[39m\u001b[38;5;241m>\u001b[39m DataFrame \u001b[38;5;241m|\u001b[39m Iterator[DataFrame]:\n\u001b[0;32m-> 2266\u001b[0m     cursor \u001b[38;5;241m=\u001b[39m \u001b[38;5;28mself\u001b[39m\u001b[38;5;241m.\u001b[39mexecute(sql, params)\n\u001b[1;32m   2267\u001b[0m     columns \u001b[38;5;241m=\u001b[39m [col_desc[\u001b[38;5;241m0\u001b[39m] \u001b[38;5;28;01mfor\u001b[39;00m col_desc \u001b[38;5;129;01min\u001b[39;00m cursor\u001b[38;5;241m.\u001b[39mdescription]\n\u001b[1;32m   2269\u001b[0m     \u001b[38;5;28;01mif\u001b[39;00m chunksize \u001b[38;5;129;01mis\u001b[39;00m \u001b[38;5;129;01mnot\u001b[39;00m \u001b[38;5;28;01mNone\u001b[39;00m:\n",
      "File \u001b[0;32m~/anaconda3/lib/python3.11/site-packages/pandas/io/sql.py:2200\u001b[0m, in \u001b[0;36mSQLiteDatabase.execute\u001b[0;34m(self, sql, params)\u001b[0m\n\u001b[1;32m   2198\u001b[0m     \u001b[38;5;28;01mraise\u001b[39;00m \u001b[38;5;167;01mTypeError\u001b[39;00m(\u001b[38;5;124m\"\u001b[39m\u001b[38;5;124mQuery must be a string unless using sqlalchemy.\u001b[39m\u001b[38;5;124m\"\u001b[39m)\n\u001b[1;32m   2199\u001b[0m args \u001b[38;5;241m=\u001b[39m [] \u001b[38;5;28;01mif\u001b[39;00m params \u001b[38;5;129;01mis\u001b[39;00m \u001b[38;5;28;01mNone\u001b[39;00m \u001b[38;5;28;01melse\u001b[39;00m [params]\n\u001b[0;32m-> 2200\u001b[0m cur \u001b[38;5;241m=\u001b[39m \u001b[38;5;28mself\u001b[39m\u001b[38;5;241m.\u001b[39mcon\u001b[38;5;241m.\u001b[39mcursor()\n\u001b[1;32m   2201\u001b[0m \u001b[38;5;28;01mtry\u001b[39;00m:\n\u001b[1;32m   2202\u001b[0m     cur\u001b[38;5;241m.\u001b[39mexecute(sql, \u001b[38;5;241m*\u001b[39margs)\n",
      "File \u001b[0;32m~/anaconda3/lib/python3.11/site-packages/mysql/connector/connection_cext.py:728\u001b[0m, in \u001b[0;36mCMySQLConnection.cursor\u001b[0;34m(self, buffered, raw, prepared, cursor_class, dictionary, named_tuple)\u001b[0m\n\u001b[1;32m    726\u001b[0m \u001b[38;5;28mself\u001b[39m\u001b[38;5;241m.\u001b[39mhandle_unread_result(prepared)\n\u001b[1;32m    727\u001b[0m \u001b[38;5;28;01mif\u001b[39;00m \u001b[38;5;129;01mnot\u001b[39;00m \u001b[38;5;28mself\u001b[39m\u001b[38;5;241m.\u001b[39mis_connected():\n\u001b[0;32m--> 728\u001b[0m     \u001b[38;5;28;01mraise\u001b[39;00m OperationalError(\u001b[38;5;124m\"\u001b[39m\u001b[38;5;124mMySQL Connection not available.\u001b[39m\u001b[38;5;124m\"\u001b[39m)\n\u001b[1;32m    729\u001b[0m \u001b[38;5;28;01mif\u001b[39;00m cursor_class \u001b[38;5;129;01mis\u001b[39;00m \u001b[38;5;129;01mnot\u001b[39;00m \u001b[38;5;28;01mNone\u001b[39;00m:\n\u001b[1;32m    730\u001b[0m     \u001b[38;5;28;01mif\u001b[39;00m \u001b[38;5;129;01mnot\u001b[39;00m \u001b[38;5;28missubclass\u001b[39m(cursor_class, CMySQLCursor):\n",
      "\u001b[0;31mOperationalError\u001b[0m: MySQL Connection not available."
     ]
    }
   ],
   "source": [
    "sql_query = pd.read_sql_query ('''\n",
    "                               SELECT * FROM actor\n",
    "                               ''', mydb)\n",
    "\n",
    "df = pd.DataFrame(sql_query)\n",
    "df"
   ]
  },
  {
   "cell_type": "code",
   "execution_count": 234,
   "id": "41c11aa0",
   "metadata": {},
   "outputs": [
    {
     "data": {
      "text/plain": [
       "Index(['actor_id', 'first_name', 'last_name', 'last_update'], dtype='object')"
      ]
     },
     "execution_count": 234,
     "metadata": {},
     "output_type": "execute_result"
    }
   ],
   "source": [
    "df.columns"
   ]
  },
  {
   "cell_type": "code",
   "execution_count": 235,
   "id": "03a6c303",
   "metadata": {},
   "outputs": [
    {
     "data": {
      "text/plain": [
       "actor_id                int64\n",
       "first_name             object\n",
       "last_name              object\n",
       "last_update    datetime64[ns]\n",
       "dtype: object"
      ]
     },
     "execution_count": 235,
     "metadata": {},
     "output_type": "execute_result"
    }
   ],
   "source": [
    "df.dtypes"
   ]
  },
  {
   "cell_type": "code",
   "execution_count": 254,
   "id": "0f5aeed7",
   "metadata": {},
   "outputs": [
    {
     "data": {
      "text/plain": [
       "actor_id       201\n",
       "first_name     129\n",
       "last_name      122\n",
       "last_update      2\n",
       "dtype: int64"
      ]
     },
     "execution_count": 254,
     "metadata": {},
     "output_type": "execute_result"
    }
   ],
   "source": [
    "df.nunique()"
   ]
  },
  {
   "cell_type": "code",
   "execution_count": 237,
   "id": "1e9a8f81",
   "metadata": {},
   "outputs": [
    {
     "data": {
      "text/html": [
       "<div>\n",
       "<style scoped>\n",
       "    .dataframe tbody tr th:only-of-type {\n",
       "        vertical-align: middle;\n",
       "    }\n",
       "\n",
       "    .dataframe tbody tr th {\n",
       "        vertical-align: top;\n",
       "    }\n",
       "\n",
       "    .dataframe thead th {\n",
       "        text-align: right;\n",
       "    }\n",
       "</style>\n",
       "<table border=\"1\" class=\"dataframe\">\n",
       "  <thead>\n",
       "    <tr style=\"text-align: right;\">\n",
       "      <th></th>\n",
       "      <th>first_name</th>\n",
       "      <th>last_name</th>\n",
       "    </tr>\n",
       "  </thead>\n",
       "  <tbody>\n",
       "    <tr>\n",
       "      <th>count</th>\n",
       "      <td>201</td>\n",
       "      <td>201</td>\n",
       "    </tr>\n",
       "    <tr>\n",
       "      <th>unique</th>\n",
       "      <td>129</td>\n",
       "      <td>122</td>\n",
       "    </tr>\n",
       "    <tr>\n",
       "      <th>top</th>\n",
       "      <td>PENELOPE</td>\n",
       "      <td>KILMER</td>\n",
       "    </tr>\n",
       "    <tr>\n",
       "      <th>freq</th>\n",
       "      <td>4</td>\n",
       "      <td>5</td>\n",
       "    </tr>\n",
       "  </tbody>\n",
       "</table>\n",
       "</div>"
      ],
      "text/plain": [
       "       first_name last_name\n",
       "count         201       201\n",
       "unique        129       122\n",
       "top      PENELOPE    KILMER\n",
       "freq            4         5"
      ]
     },
     "execution_count": 237,
     "metadata": {},
     "output_type": "execute_result"
    }
   ],
   "source": [
    "df[['first_name', 'last_name']].describe()"
   ]
  },
  {
   "cell_type": "code",
   "execution_count": 238,
   "id": "6ab446bc",
   "metadata": {},
   "outputs": [
    {
     "data": {
      "text/html": [
       "<div>\n",
       "<style scoped>\n",
       "    .dataframe tbody tr th:only-of-type {\n",
       "        vertical-align: middle;\n",
       "    }\n",
       "\n",
       "    .dataframe tbody tr th {\n",
       "        vertical-align: top;\n",
       "    }\n",
       "\n",
       "    .dataframe thead th {\n",
       "        text-align: right;\n",
       "    }\n",
       "</style>\n",
       "<table border=\"1\" class=\"dataframe\">\n",
       "  <thead>\n",
       "    <tr style=\"text-align: right;\">\n",
       "      <th></th>\n",
       "      <th>last_update</th>\n",
       "    </tr>\n",
       "  </thead>\n",
       "  <tbody>\n",
       "    <tr>\n",
       "      <th>count</th>\n",
       "      <td>201</td>\n",
       "    </tr>\n",
       "    <tr>\n",
       "      <th>mean</th>\n",
       "      <td>2006-03-19 20:01:41.597014656</td>\n",
       "    </tr>\n",
       "    <tr>\n",
       "      <th>min</th>\n",
       "      <td>2006-02-15 04:34:33</td>\n",
       "    </tr>\n",
       "    <tr>\n",
       "      <th>25%</th>\n",
       "      <td>2006-02-15 04:34:33</td>\n",
       "    </tr>\n",
       "    <tr>\n",
       "      <th>50%</th>\n",
       "      <td>2006-02-15 04:34:33</td>\n",
       "    </tr>\n",
       "    <tr>\n",
       "      <th>75%</th>\n",
       "      <td>2006-02-15 04:34:33</td>\n",
       "    </tr>\n",
       "    <tr>\n",
       "      <th>max</th>\n",
       "      <td>2024-02-02 14:30:21</td>\n",
       "    </tr>\n",
       "  </tbody>\n",
       "</table>\n",
       "</div>"
      ],
      "text/plain": [
       "                         last_update\n",
       "count                            201\n",
       "mean   2006-03-19 20:01:41.597014656\n",
       "min              2006-02-15 04:34:33\n",
       "25%              2006-02-15 04:34:33\n",
       "50%              2006-02-15 04:34:33\n",
       "75%              2006-02-15 04:34:33\n",
       "max              2024-02-02 14:30:21"
      ]
     },
     "execution_count": 238,
     "metadata": {},
     "output_type": "execute_result"
    }
   ],
   "source": [
    "df[['last_update']].describe()"
   ]
  },
  {
   "cell_type": "code",
   "execution_count": 239,
   "id": "c73c8a7e",
   "metadata": {},
   "outputs": [
    {
     "data": {
      "text/plain": [
       "201"
      ]
     },
     "execution_count": 239,
     "metadata": {},
     "output_type": "execute_result"
    }
   ],
   "source": [
    "len(df)"
   ]
  },
  {
   "cell_type": "code",
   "execution_count": 240,
   "id": "8b4b8591",
   "metadata": {},
   "outputs": [
    {
     "data": {
      "text/plain": [
       "actor_id       0\n",
       "first_name     0\n",
       "last_name      0\n",
       "last_update    0\n",
       "dtype: int64"
      ]
     },
     "execution_count": 240,
     "metadata": {},
     "output_type": "execute_result"
    }
   ],
   "source": [
    "df.isnull().sum()"
   ]
  },
  {
   "cell_type": "code",
   "execution_count": 241,
   "id": "cb465fb1",
   "metadata": {},
   "outputs": [
    {
     "data": {
      "text/html": [
       "<div>\n",
       "<style scoped>\n",
       "    .dataframe tbody tr th:only-of-type {\n",
       "        vertical-align: middle;\n",
       "    }\n",
       "\n",
       "    .dataframe tbody tr th {\n",
       "        vertical-align: top;\n",
       "    }\n",
       "\n",
       "    .dataframe thead th {\n",
       "        text-align: right;\n",
       "    }\n",
       "</style>\n",
       "<table border=\"1\" class=\"dataframe\">\n",
       "  <thead>\n",
       "    <tr style=\"text-align: right;\">\n",
       "      <th></th>\n",
       "      <th>actor_id</th>\n",
       "      <th>first_name</th>\n",
       "      <th>last_name</th>\n",
       "      <th>last_update</th>\n",
       "    </tr>\n",
       "  </thead>\n",
       "  <tbody>\n",
       "    <tr>\n",
       "      <th>196</th>\n",
       "      <td>197</td>\n",
       "      <td>REESE</td>\n",
       "      <td>WEST</td>\n",
       "      <td>2006-02-15 04:34:33</td>\n",
       "    </tr>\n",
       "    <tr>\n",
       "      <th>197</th>\n",
       "      <td>198</td>\n",
       "      <td>MARY</td>\n",
       "      <td>KEITEL</td>\n",
       "      <td>2006-02-15 04:34:33</td>\n",
       "    </tr>\n",
       "    <tr>\n",
       "      <th>198</th>\n",
       "      <td>199</td>\n",
       "      <td>JULIA</td>\n",
       "      <td>FAWCETT</td>\n",
       "      <td>2006-02-15 04:34:33</td>\n",
       "    </tr>\n",
       "    <tr>\n",
       "      <th>199</th>\n",
       "      <td>200</td>\n",
       "      <td>THORA</td>\n",
       "      <td>TEMPLE</td>\n",
       "      <td>2006-02-15 04:34:33</td>\n",
       "    </tr>\n",
       "    <tr>\n",
       "      <th>200</th>\n",
       "      <td>202</td>\n",
       "      <td>Michele</td>\n",
       "      <td>Choi</td>\n",
       "      <td>2024-02-02 14:30:21</td>\n",
       "    </tr>\n",
       "  </tbody>\n",
       "</table>\n",
       "</div>"
      ],
      "text/plain": [
       "     actor_id first_name last_name         last_update\n",
       "196       197      REESE      WEST 2006-02-15 04:34:33\n",
       "197       198       MARY    KEITEL 2006-02-15 04:34:33\n",
       "198       199      JULIA   FAWCETT 2006-02-15 04:34:33\n",
       "199       200      THORA    TEMPLE 2006-02-15 04:34:33\n",
       "200       202    Michele      Choi 2024-02-02 14:30:21"
      ]
     },
     "execution_count": 241,
     "metadata": {},
     "output_type": "execute_result"
    }
   ],
   "source": [
    "df.tail(5)"
   ]
  },
  {
   "cell_type": "code",
   "execution_count": 281,
   "id": "5b50d5cc",
   "metadata": {},
   "outputs": [],
   "source": [
    "mydb = mysql.connector.connect(\n",
    "    host = \"localhost\",\n",
    "    user = \"root\",\n",
    "    password = \"\",\n",
    "    database = \"sakila\"\n",
    ")"
   ]
  },
  {
   "cell_type": "code",
   "execution_count": 282,
   "id": "4d86962a",
   "metadata": {},
   "outputs": [],
   "source": [
    "lat = mydb.cursor()"
   ]
  },
  {
   "cell_type": "code",
   "execution_count": 277,
   "id": "4416fb5f",
   "metadata": {},
   "outputs": [
    {
     "name": "stdout",
     "output_type": "stream",
     "text": [
      "('NICK',)\n",
      "('KARL',)\n",
      "('VIVIEN',)\n",
      "('PARKER',)\n",
      "('HENRY',)\n",
      "('CHRISTOPHER',)\n",
      "('DARYL',)\n",
      "('LIZA',)\n",
      "('SCARLETT',)\n",
      "('MICHAEL',)\n"
     ]
    }
   ],
   "source": [
    "sql = \"SELECT first_name FROM actor WHERE last_name LIKE '%BE%'\"\n",
    "lat.execute(sql)\n",
    "names = lat.fetchall()\n",
    "for x in names:\n",
    "   print(x)\n",
    "\n",
    "mydb.close()"
   ]
  },
  {
   "cell_type": "code",
   "execution_count": 217,
   "id": "a069b4ef",
   "metadata": {},
   "outputs": [
    {
     "name": "stdout",
     "output_type": "stream",
     "text": [
      "NICK\n",
      "KARL\n",
      "VIVIEN\n",
      "PARKER\n",
      "HENRY\n",
      "CHRISTOPHER\n",
      "DARYL\n",
      "LIZA\n",
      "SCARLETT\n",
      "MICHAEL\n"
     ]
    }
   ],
   "source": [
    "# for x in range(len(df)):\n",
    "#     if 'BE' in df['last_name'][x]:\n",
    "#         print(df['first_name'][x])"
   ]
  },
  {
   "cell_type": "code",
   "execution_count": 278,
   "id": "c5dd639b",
   "metadata": {},
   "outputs": [
    {
     "data": {
      "text/plain": [
       "201"
      ]
     },
     "execution_count": 278,
     "metadata": {},
     "output_type": "execute_result"
    }
   ],
   "source": [
    "len(df)"
   ]
  },
  {
   "cell_type": "markdown",
   "id": "ec16f5a8",
   "metadata": {},
   "source": [
    "SOAL :\n",
    "N = 1 (city_id)\n",
    "while N < 60:\n",
    "    cetak nama kota & alamat\n",
    "    n++\n",
    "    berhenti"
   ]
  },
  {
   "cell_type": "code",
   "execution_count": 289,
   "id": "98e37b09",
   "metadata": {},
   "outputs": [
    {
     "name": "stdout",
     "output_type": "stream",
     "text": [
      "('Lethbridge', '47 MySakila Drive')\n",
      "('Woodridge', '28 MySQL Boulevard')\n",
      "('Lethbridge', '23 Workhaven Lane')\n",
      "('Woodridge', '1411 Lillydale Drive')\n",
      "('Sasebo', '1913 Hanoi Way')\n",
      "('San Bernardino', '1121 Loja Avenue')\n",
      "('Athenai', '692 Joliet Street')\n",
      "('Myingyan', '1566 Inegöl Manor')\n",
      "('Nantou', '53 Idfu Parkway')\n",
      "('Laredo', '1795 Santiago de Compostela Way')\n",
      "('Kragujevac', '900 Santiago de Compostela Parkway')\n",
      "('Hamilton', '478 Joliet Way')\n",
      "('Masqat', '613 Korolev Drive')\n",
      "('Esfahan', '1531 Salé Drive')\n",
      "('Sagamihara', '1542 Tarlac Parkway')\n",
      "('Yamuna Nagar', '808 Bhopal Manor')\n",
      "('Osmaniye', '270 Amroha Parkway')\n",
      "('Citrus Heights', '770 Bydgoszcz Avenue')\n",
      "('Bhopal', '419 Iligan Lane')\n",
      "('Southend-on-Sea', '360 Toulouse Parkway')\n",
      "('Elista', '270 Toulon Boulevard')\n",
      "('Kaduna', '320 Brest Avenue')\n",
      "('Kimberley', '1417 Lancaster Avenue')\n",
      "('Mardan', '1688 Okara Way')\n",
      "('Tangail', '262 A Coruña (La Coruña) Parkway')\n",
      "('Salé', '28 Charlotte Amalie Street')\n",
      "('Liepaja', '1780 Hino Boulevard')\n",
      "('Córdoba', '96 Tafuna Way')\n",
      "('Shikarpur', '934 San Felipe de Puerto Plata Street')\n",
      "('Città del Vaticano', '18 Duisburg Boulevard')\n",
      "('Davao', '217 Botshabelo Place')\n",
      "('Munger (Monghyr)', '1425 Shikarpur Manor')\n",
      "('Shimonoseki', '786 Aurora Avenue')\n",
      "('Lungtan', '1668 Anápolis Street')\n",
      "('Kamarhati', '33 Gorontalo Way')\n",
      "('Jhansi', '176 Mandaluyong Place')\n",
      "('Alessandria', '127 Purnea (Purnia) Manor')\n",
      "('Kurashiki', '61 Tama Street')\n",
      "('Toulouse', '391 Callao Drive')\n",
      "('Arak', '334 Munger (Monghyr) Lane')\n",
      "('Nanyang', '1440 Fukuyama Loop')\n",
      "('Chisinau', '269 Cam Ranh Parkway')\n",
      "('Vila Velha', '306 Antofagasta Place')\n",
      "('Nador', '671 Graz Street')\n",
      "('Yerevan', '42 Brindisi Place')\n",
      "('Pak Kret', '1632 Bislig Avenue')\n",
      "('Faaa', '1447 Imus Way')\n",
      "('Lipetsk', '1998 Halifax Drive')\n",
      "('Antofagasta', '1718 Valencia Street')\n",
      "('Moscow', '46 Pjatigorsk Lane')\n",
      "('Juazeiro do Norte', '686 Garland Manor')\n",
      "('Niznekamsk', '909 Garland Manor')\n",
      "('Jedda', '725 Isesaki Place')\n",
      "('Omdurman', '115 Hidalgo Parkway')\n",
      "('Fontana', '1135 Izumisano Parkway')\n",
      "('A Coruña (La Coruña)', '939 Probolinggo Loop')\n",
      "('Nagareyama', '17 Kabul Boulevard')\n",
      "('Iwakuni', '1964 Allappuzha (Alleppey) Street')\n",
      "('Balašiha', '1697 Kowloon and New Kowloon Loop')\n",
      "('Papeete', '1668 Saint Louis Place')\n",
      "('Vaduz', '943 Tokat Street')\n",
      "('Kuching', '1114 Liepaja Street')\n",
      "('Mysore', '1213 Ranchi Parkway')\n",
      "('Jaipur', '81 Hodeida Way')\n",
      "('Basel', '915 Ponce Place')\n",
      "('Saint Louis', '1717 Guadalajara Lane')\n",
      "('Lincoln', '1214 Hanoi Way')\n",
      "('Daxian', '1966 Amroha Avenue')\n",
      "('Cayenne', '698 Otsu Street')\n",
      "('Malmö', '1150 Kimchon Manor')\n",
      "('Xi´angtan', '1586 Guarujá Place')\n",
      "('Shivapuri', '57 Arlington Manor')\n",
      "('Béchar', '1031 Daugavpils Parkway')\n",
      "('al-Hawiya', '1124 Buenaventura Drive')\n",
      "('Baybay', '492 Cam Ranh Street')\n",
      "('Taguig', '89 Allappuzha (Alleppey) Manor')\n",
      "('Chiayi', '1947 Poços de Caldas Boulevard')\n",
      "('Rio Claro', '1206 Dos Quebradas Place')\n",
      "('Changhwa', '1551 Rampur Lane')\n",
      "('Pavlodar', '602 Paarl Street')\n",
      "('Araçatuba', '1692 Ede Loop')\n",
      "('Rae Bareli', '936 Salzburg Lane')\n",
      "('Kamakura', '586 Tete Way')\n",
      "('Ife', '1888 Kabul Drive')\n",
      "('Mahajanga', '320 Baiyin Parkway')\n",
      "('Simferopol', '927 Bahía Blanca Parkway')\n",
      "('Springs', '929 Tallahassee Loop')\n",
      "('Atlixco', '125 Città del Vaticano Boulevard')\n",
      "('Bradford', '1557 Kütahya Boulevard')\n",
      "('Songkhla', '870 Ashqelon Loop')\n",
      "('Sincelejo', '1740 Portoviejo Avenue')\n",
      "('Cheju', '1942 Ciparay Parkway')\n",
      "('La Plata', '1926 El Alto Avenue')\n",
      "('Meixian', '1952 Chatsworth Drive')\n",
      "('Bandar Seri Begawan', '1370 Le Mans Avenue')\n",
      "('Goiânia', '984 Effon-Alaiye Avenue')\n",
      "('Zalantun', '832 Nakhon Sawan Manor')\n",
      "('Bislig', '152 Kitwe Parkway')\n",
      "('Pathankot', '1697 Tanauan Lane')\n",
      "('Augusta-Richmond County', '1308 Arecibo Way')\n",
      "('Tete', '1599 Plock Drive')\n",
      "('al-Ayn', '669 Firozabad Loop')\n",
      "('Kimchon', '588 Vila Velha Manor')\n",
      "('Jelets', '1913 Kamakura Place')\n",
      "('Abha', '733 Mandaluyong Place')\n",
      "('Ashdod', '659 Vaduz Drive')\n",
      "('Ilorin', '1177 Jelets Way')\n",
      "('Toulon', '1386 Yangor Avenue')\n",
      "('Funafuti', '454 Nakhon Sawan Boulevard')\n",
      "('Ivanovo', '1867 San Juan Bautista Tuxtepec Avenue')\n",
      "('Merlo', '1532 Dzerzinsk Way')\n",
      "('Huixquilucan', '1002 Ahmadnagar Manor')\n",
      "('Klerksdorp', '682 Junan Way')\n",
      "('Enshi', '804 Elista Drive')\n",
      "('Caracas', '1378 Alvorada Avenue')\n",
      "('Lancaster', '793 Cam Ranh Avenue')\n",
      "('Cumaná', '1079 Tel Aviv-Jaffa Boulevard')\n",
      "('Duisburg', '442 Rae Bareli Place')\n",
      "('Nezahualcóyotl', '1107 Nakhon Sawan Avenue')\n",
      "('Pemalang', '544 Malmö Parkway')\n",
      "('Gandhinagar', '1967 Sincelejo Place')\n",
      "('Grand Prairie', '333 Goiânia Way')\n",
      "('Shubra al-Khayma', '1987 Coacalco de Berriozábal Loop')\n",
      "('Dos Quebradas', '241 Mosul Lane')\n",
      "('Etawah', '211 Chiayi Drive')\n",
      "('Lima', '1175 Tanauan Way')\n",
      "('Varanasi (Benares)', '117 Boa Vista Way')\n",
      "('Kütahya', '848 Tafuna Manor')\n",
      "('Boksburg', '569 Baicheng Lane')\n",
      "('Poá', '1666 Qomsheh Drive')\n",
      "('Smolensk', '801 Hagonoy Drive')\n",
      "('Jastrzebie-Zdrój', '1050 Garden Grove Avenue')\n",
      "('Liaocheng', '1854 Tieli Street')\n",
      "('Águas Lindas de Goiás', '758 Junan Lane')\n",
      "('Mukatševe', '1752 São Leopoldo Parkway')\n",
      "('Botshabelo', '898 Belém Manor')\n",
      "('Torreón', '261 Saint Louis Way')\n",
      "('Qalyub', '765 Southampton Drive')\n",
      "('Pune', '943 Johannesburg Avenue')\n",
      "('Hubli-Dharwad', '788 Atšinsk Street')\n",
      "('Apeldoorn', '1749 Daxian Place')\n",
      "('Hohhot', '1587 Sullana Lane')\n",
      "('Touliu', '1029 Dzerzinsk Manor')\n",
      "('Clarksville', '1666 Beni-Mellal Place')\n",
      "('Fukuyama', '928 Jaffna Loop')\n",
      "('Dundee', '483 Ljubertsy Parkway')\n",
      "('Kilis', '374 Bat Yam Boulevard')\n",
      "('Molodetšno', '1027 Songkhla Manor')\n",
      "('Soshanguve', '999 Sanaa Loop')\n",
      "('Sterling Heights', '879 Newcastle Way')\n",
      "('Urawa', '1337 Lincoln Parkway')\n",
      "('Saint-Denis', '1952 Pune Lane')\n",
      "('Brockton', '782 Mosul Street')\n",
      "('Hidalgo', '781 Shimonoseki Drive')\n",
      "('Laiwu', '1560 Jelets Boulevard')\n",
      "('Nagaon', '1963 Moscow Place')\n",
      "('Jakarta', '456 Escobar Way')\n",
      "('Yuncheng', '798 Cianjur Avenue')\n",
      "('Bern', '185 Novi Sad Place')\n",
      "('Ondo', '1367 Yantai Manor')\n",
      "('Pyongyang', '1386 Nakhon Sawan Boulevard')\n",
      "('Greensboro', '369 Papeete Way')\n",
      "('Linz', '1440 Compton Place')\n",
      "('Ljubertsy', '1623 Bahía Blanca Manor')\n",
      "('Tel Aviv-Jaffa', '97 Shimoga Avenue')\n",
      "('Le Mans', '1740 Le Mans Loop')\n",
      "('Kakamigahara', '1287 Xi´angfan Boulevard')\n",
      "('Tarsus', '842 Salzburg Lane')\n",
      "('Hami', '154 Tallahassee Loop')\n",
      "('Lilongwe', '710 San Felipe del Progreso Avenue')\n",
      "('Chandrapur', '1540 Wroclaw Drive')\n",
      "('Jinchang', '475 Atšinsk Way')\n",
      "('Pingxiang', '1294 Firozabad Drive')\n",
      "('Udaipur', '1877 Ezhou Lane')\n",
      "('Ipoh', '316 Uruapan Street')\n",
      "('Batman', '29 Pyongyang Loop')\n",
      "('Graz', '1010 Klerksdorp Way')\n",
      "('Ocumare del Tuy', '1848 Salala Boulevard')\n",
      "('Allappuzha (Alleppey)', '431 Xi´angtan Avenue')\n",
      "('Skikda', '757 Rustenburg Avenue')\n",
      "('Matamoros', '146 Johannesburg Way')\n",
      "('Santa Bárbara d´Oeste', '1891 Rizhao Boulevard')\n",
      "('Kirovo-Tšepetsk', '1089 Iwatsuki Avenue')\n",
      "('Pereira', '1410 Benin City Parkway')\n",
      "('Memphis', '682 Garden Grove Place')\n",
      "('Compton', '533 al-Ayn Boulevard')\n",
      "('Luziânia', '1839 Székesfehérvár Parkway')\n",
      "('´s-Hertogenbosch', '741 Ambattur Manor')\n",
      "('Shahr-e Kord', '927 Barcelona Street')\n",
      "('Haldia', '435 0 Way')\n",
      "('Sumy', '140 Chiayi Parkway')\n",
      "('Bayugan', '1166 Changhwa Street')\n",
      "('Oshawa', '891 Novi Sad Manor')\n",
      "('Tabora', '605 Rio Claro Parkway')\n",
      "('Novotšerkassk', '1077 San Felipe de Puerto Plata Place')\n",
      "('Firozabad', '9 San Miguel de Tucumán Manor')\n",
      "('Kisumu', '447 Surakarta Loop')\n",
      "('Hino', '345 Oshawa Boulevard')\n",
      "('Siegen', '1792 Valle de la Pascua Place')\n",
      "('Mannheim', '1074 Binzhou Manor')\n",
      "('Changzhou', '817 Bradford Loop')\n",
      "('Ikerre', '955 Bamenda Way')\n",
      "('Haiphong', '1149 A Coruña (La Coruña) Boulevard')\n",
      "('Ashgabat', '387 Mwene-Ditu Drive')\n",
      "('Witten', '68 Molodetšno Manor')\n",
      "('Bhusawal', '642 Nador Drive')\n",
      "('Gorontalo', '1688 Nador Lane')\n",
      "('Usak', '1215 Pyongyang Parkway')\n",
      "('Ciudad del Este', '1679 Antofagasta Street')\n",
      "('Blumenau', '1304 ´s-Hertogenbosch Way')\n",
      "('Nuuk', '850 Salala Loop')\n",
      "('Balurghat', '624 Oshawa Boulevard')\n",
      "('Bhilwara', '43 Dadu Avenue')\n",
      "('Aden', '751 Lima Loop')\n",
      "('Fuyu', '1333 Haldia Street')\n",
      "('Bellevue', '660 Jedda Boulevard')\n",
      "('Taizz', '1001 Miyakonojo Lane')\n",
      "('Sunnyvale', '226 Brest Manor')\n",
      "('Stara Zagora', '1229 Valencia Parkway')\n",
      "('Aparecida de Goiânia', '1201 Qomsheh Manor')\n",
      "('Sambhal', '866 Shivapuri Manor')\n",
      "('Kabul', '1168 Najafabad Parkway')\n",
      "('Vicente López', '1244 Allappuzha (Alleppey) Place')\n",
      "('Zanzibar', '1842 Luziânia Boulevard')\n",
      "('Syrakusa', '1926 Gingoog Street')\n",
      "('Jaroslavl', '810 Palghat (Palakkad) Boulevard')\n",
      "('Mandi Bahauddin', '1820 Maringá Parkway')\n",
      "('Jodhpur', '60 Poços de Caldas Street')\n",
      "('Ambattur', '1014 Loja Manor')\n",
      "('Asunción', '201 Effon-Alaiye Way')\n",
      "('Saarbrücken', '430 Alessandria Loop')\n",
      "('Phnom Penh', '754 Valencia Place')\n",
      "('Anápolis', '356 Olomouc Manor')\n",
      "('Botosani', '1256 Bislig Boulevard')\n",
      "('Uttarpara-Kotrung', '954 Kimchon Place')\n",
      "('Zaria', '885 Yingkou Manor')\n",
      "('Idfu', '1736 Cavite Place')\n",
      "('Jalib al-Shuyukh', '346 Skikda Parkway')\n",
      "('Buenaventura', '98 Stara Zagora Boulevard')\n",
      "('Tanza', '1479 Rustenburg Boulevard')\n",
      "('Naju', '647 A Coruña (La Coruña) Street')\n",
      "('Shimoga', '1964 Gijón Manor')\n",
      "('Ciomas', '47 Syktyvkar Lane')\n",
      "('Iwaki', '1148 Saarbrücken Parkway')\n",
      "('Xi´angfan', '1103 Bilbays Parkway')\n",
      "('Qinhuangdao', '1246 Boksburg Parkway')\n",
      "('San Miguel de Tucumán', '1483 Pathankot Street')\n",
      "('Lapu-Lapu', '582 Papeete Loop')\n",
      "('Uijongbu', '300 Junan Street')\n",
      "('Maringá', '829 Grand Prairie Way')\n",
      "('Coacalco de Berriozábal', '1473 Changhwa Parkway')\n",
      "('Tallahassee', '1309 Weifang Street')\n",
      "('Tianjin', '1760 Oshawa Manor')\n",
      "('Oyo', '786 Stara Zagora Way')\n",
      "('Halle/Saale', '1966 Tonghae Street')\n",
      "('London', '1497 Yuzhou Drive')\n",
      "('Miyakonojo', '752 Ondo Loop')\n",
      "('Poços de Caldas', '1338 Zalantun Lane')\n",
      "('Hagonoy', '127 Iwakuni Boulevard')\n",
      "('Monywa', '51 Laredo Avenue')\n",
      "('Beira', '771 Yaoundé Manor')\n",
      "('Santiago de los Caballeros', '532 Toulon Street')\n",
      "('Halisahar', '1027 Banjul Place')\n",
      "('Datong', '1158 Mandi Bahauddin Parkway')\n",
      "('Tuguegarao', '862 Xintai Lane')\n",
      "('Portoviejo', '816 Cayenne Parkway')\n",
      "('Mandaluyong', '1831 Nam Dinh Loop')\n",
      "('Higashiosaka', '446 Kirovo-Tšepetsk Lane')\n",
      "('Olomouc', '682 Halisahar Place')\n",
      "('Salzburg', '1587 Loja Manor')\n",
      "('Lengshuijiang', '1762 Paarl Parkway')\n",
      "('Palghat (Palakkad)', '1519 Ilorin Place')\n",
      "('Salinas', '920 Kumbakonam Loop')\n",
      "('Kalisz', '906 Goiânia Way')\n",
      "('Kumbakonam', '1675 Xi´angfan Manor')\n",
      "('Yantai', '85 San Felipe de Puerto Plata Drive')\n",
      "('Salamanca', '144 South Hill Loop')\n",
      "('Karnal', '1884 Shikarpur Avenue')\n",
      "('Peoria', '1980 Kamjanets-Podilskyi Street')\n",
      "('Warren', '1944 Bamenda Way')\n",
      "('Ogbomosho', '556 Baybay Manor')\n",
      "('Inegöl', '457 Tongliao Loop')\n",
      "('Tabriz', '600 Bradford Street')\n",
      "('Owo', '1006 Santa Bárbara d´Oeste Manor')\n",
      "('Fuzhou', '1308 Sumy Loop')\n",
      "('Ponce', '1405 Chisinau Place')\n",
      "('Korla', '226 Halifax Street')\n",
      "('Benin City', '1279 Udine Parkway')\n",
      "('Otsu', '1336 Benin City Drive')\n",
      "('Effon-Alaiye', '1155 Liaocheng Place')\n",
      "('Tambaram', '1993 Tabuk Lane')\n",
      "('Valle de Santiago', '86 Higashiosaka Lane')\n",
      "('Kowloon and New Kowloon', '1912 Allende Manor')\n",
      "('Valle de la Pascua', '544 Tarsus Boulevard')\n",
      "('Roanoke', '1936 Cumaná Avenue')\n",
      "('Sharja', '1192 Tongliao Street')\n",
      "('Donostia-San Sebastián', '44 Najafabad Way')\n",
      "('Dayton', '32 Pudukkottai Lane')\n",
      "('Kolpino', '661 Chisinau Lane')\n",
      "('Patiala', '951 Stara Zagora Manor')\n",
      "('Ahmadnagar', '922 Vila Velha Loop')\n",
      "('Oulu', '898 Jining Lane')\n",
      "('Hiroshima', '1635 Kuwana Boulevard')\n",
      "('Parbhani', '41 El Alto Parkway')\n",
      "('Kaliningrad', '1883 Maikop Lane')\n",
      "('Tiefa', '1908 Gaziantep Place')\n",
      "('Sanaa', '687 Alessandria Parkway')\n",
      "('Callao', '827 Yuncheng Drive')\n",
      "('Arlington', '913 Coacalco de Berriozábal Loop')\n",
      "('Sungai Petani', '715 São Bernardo do Campo Lane')\n",
      "('Angra dos Reis', '1354 Siegen Street')\n",
      "('Kansas City', '1191 Sungai Petani Boulevard')\n",
      "('Brescia', '1224 Huejutla de Reyes Boulevard')\n",
      "('Ibirité', '543 Bergamo Avenue')\n",
      "('Kursk', '746 Joliet Lane')\n",
      "('Tabuk', '780 Kimberley Way')\n",
      "('Ezhou', '1774 Yaoundé Place')\n",
      "('Sorocaba', '1957 Yantai Lane')\n",
      "('Bat Yam', '1542 Lubumbashi Boulevard')\n",
      "('Miraj', '651 Pathankot Loop')\n",
      "('Tórshavn', '1359 Zhoushan Parkway')\n",
      "('Bydgoszcz', '1769 Iwaki Lane')\n",
      "('San Felipe del Progreso', '1145 Vilnius Manor')\n",
      "('Tafuna', '1892 Nabereznyje Tšelny Lane')\n",
      "('Birgunj', '470 Boksburg Street')\n",
      "('Bahía Blanca', '1427 A Coruña (La Coruña) Place')\n",
      "('Cuautla', '479 San Felipe del Progreso Avenue')\n",
      "('Yuzhou', '867 Benin City Avenue')\n",
      "('Brasília', '981 Kumbakonam Place')\n",
      "('Kingstown', '1016 Iwakuni Street')\n",
      "('Adana', '663 Bahía Blanca Parkway')\n",
      "('Ciparay', '1860 Taguig Loop')\n",
      "('Jamalpur', '1816 Bydgoszcz Loop')\n",
      "('Aurora', '587 Benguela Manor')\n",
      "('Santa Fé', '430 Kumbakonam Drive')\n",
      "('Dhaka', '1838 Tabriz Lane')\n",
      "('Baku', '431 Székesfehérvár Avenue')\n",
      "('Sumqayit', '503 Sogamoso Loop')\n",
      "('Sousse', '507 Smolensk Loop')\n",
      "('Rampur', '1920 Weifang Avenue')\n",
      "('Onomichi', '124 al-Manama Way')\n",
      "('Paarl', '1443 Mardan Street')\n",
      "('Xinxiang', '1909 Benguela Lane')\n",
      "('Hanoi', '68 Ponce Parkway')\n",
      "('Ede', '1217 Konotop Avenue')\n",
      "('Boa Vista', '1293 Nam Dinh Way')\n",
      "('Mexicali', '785 Vaduz Street')\n",
      "('Nuku´alofa', '1516 Escobar Drive')\n",
      "('San Lorenzo', '1628 Nagareyama Lane')\n",
      "('Maikop', '1157 Nyeri Loop')\n",
      "('Daugavpils', '1673 Tangail Drive')\n",
      "('Hsichuh', '381 Kabul Way')\n",
      "('Imus', '953 Hodeida Street')\n",
      "('Tšeboksary', '469 Nakhon Sawan Street')\n",
      "('Zeleznogorsk', '1378 Beira Loop')\n",
      "('Bamenda', '1641 Changhwa Place')\n",
      "('Pachuca de Soto', '1698 Southport Loop')\n",
      "('Santo André', '519 Nyeri Manor')\n",
      "('Matsue', '619 Huánuco Avenue')\n",
      "('Satna', '45 Aparecida de Goiânia Place')\n",
      "('Bratislava', '482 Kowloon and New Kowloon Manor')\n",
      "('Ranchi', '604 Bern Place')\n",
      "('Almirante Brown', '1623 Kingstown Drive')\n",
      "('Arecibo', '1009 Zanzibar Lane')\n",
      "('Yaoundé', '114 Jalib al-Shuyukh Manor')\n",
      "('Belém', '1163 London Parkway')\n",
      "('Nyeri', '1658 Jastrzebie-Zdrój Loop')\n",
      "('Guadalajara', '817 Laredo Avenue')\n",
      "('Okinawa', '1565 Tangail Manor')\n",
      "('Balikesir', '1912 Emeishan Drive')\n",
      "('Adoni', '230 Urawa Drive')\n",
      "('Najafabad', '1922 Miraj Way')\n",
      "('Juárez', '433 Florencia Street')\n",
      "('Gulbarga', '1049 Matamoros Parkway')\n",
      "('Cabuyao', '1061 Ede Avenue')\n",
      "('Probolinggo', '154 Oshawa Manor')\n",
      "('Tanauan', '1191 Tandil Drive')\n",
      "('Vitória de Santo Antão', '1133 Rizhao Avenue')\n",
      "('Mwene-Ditu', '1519 Santiago de los Caballeros Loop')\n",
      "('Kurgan', '1618 Olomouc Manor')\n",
      "('Kermanshah', '220 Hidalgo Drive')\n",
      "('Shenzhen', '686 Donostia-San Sebastián Lane')\n",
      "('Bhavnagar', '97 Mogiljov Lane')\n",
      "('Tychy', '1642 Charlotte Amalie Drive')\n",
      "('South Hill', '1368 Maracaíbo Boulevard')\n",
      "('Manchester', '401 Sucre Boulevard')\n",
      "('Namibe', '368 Huánuco Boulevard')\n",
      "('Huai´an', '500 Lincoln Parkway')\n",
      "('Tama', '102 Chapra Drive')\n",
      "('Kamjanets-Podilskyi', '1793 Meixian Place')\n",
      "('Lubumbashi', '514 Ife Way')\n",
      "('Cavite', '717 Changzhou Lane')\n",
      "('Emeishan', '753 Ilorin Avenue')\n",
      "('Nakhon Sawan', '1337 Mit Ghamr Avenue')\n",
      "('Izumisano', '767 Pyongyang Drive')\n",
      "('Addis Abeba', '614 Pak Kret Street')\n",
      "('Korolev', '954 Lapu-Lapu Way')\n",
      "('Gijón', '331 Bydgoszcz Parkway')\n",
      "('al-Qadarif', '1152 Citrus Heights Manor')\n",
      "('Iwatsuki', '168 Cianjur Manor')\n",
      "('Atšinsk', '616 Hagonoy Avenue')\n",
      "('Bagé', '1190 0 Place')\n",
      "('Okara', '734 Béchar Place')\n",
      "('Dallas', '530 Lausanne Lane')\n",
      "('Koriyama', '454 Patiala Lane')\n",
      "('Brest', '1346 Mysore Drive')\n",
      "('Valparai', '990 Etawah Loop')\n",
      "('Omiya', '1266 Laredo Parkway')\n",
      "('Tandil', '88 Nagaon Manor')\n",
      "('Charlotte Amalie', '264 Bhimavaram Manor')\n",
      "('Rustenburg', '1639 Saarbrücken Drive')\n",
      "('Jaffna', '692 Amroha Drive')\n",
      "('Deba Habe', '1936 Lapu-Lapu Parkway')\n",
      "('Richmond Hill', '432 Garden Grove Street')\n",
      "('Cianjur', '1445 Carmen Parkway')\n",
      "('Hoshiarpur', '791 Salinas Street')\n",
      "('Berhampore (Baharampur)', '126 Acuña Parkway')\n",
      "('Allende', '397 Sunnyvale Avenue')\n",
      "('Amersfoort', '992 Klerksdorp Loop')\n",
      "('Dadu', '966 Arecibo Loop')\n",
      "('al-Qatif', '289 Santo André Manor')\n",
      "('San Felipe de Puerto Plata', '437 Chungho Drive')\n",
      "('Katihar', '1948 Bayugan Parkway')\n",
      "('El Monte', '1866 al-Qatif Avenue')\n",
      "('Pudukkottai', '1661 Abha Drive')\n",
      "('Laohekou', '1557 Cape Coral Parkway')\n",
      "('Sawhaj', '1727 Matamoros Place')\n",
      "('Shanwei', '1269 Botosani Manor')\n",
      "('San Juan Bautista Tuxtepec', '355 Vitória de Santo Antão Way')\n",
      "('Purnea (Purnia)', '1596 Acuña Parkway')\n",
      "('Guarujá', '259 Ipoh Drive')\n",
      "('Syktyvkar', '1823 Hoshiarpur Lane')\n",
      "('Tsuyama', '1404 Taguig Drive')\n",
      "('Dzerzinsk', '740 Udaipur Lane')\n",
      "('Sucre', '287 Cuautla Boulevard')\n",
      "('Newcastle', '1766 Almirante Brown Street')\n",
      "('Naçala-Porto', '596 Huixquilucan Place')\n",
      "('Ozamis', '1351 Aparecida de Goiânia Parkway')\n",
      "('Junan', '722 Bradford Lane')\n",
      "('Vancouver', '983 Santa Fé Way')\n",
      "('La Romana', '1245 Ibirité Way')\n",
      "('Kitwe', '1836 Korla Parkway')\n",
      "('Bergamo', '231 Kaliningrad Place')\n",
      "('Dhule (Dhulia)', '495 Bhimavaram Lane')\n",
      "('Batna', '1924 Shimonoseki Drive')\n",
      "('Tongliao', '105 Dzerzinsk Manor')\n",
      "('São Leopoldo', '614 Denizli Parkway')\n",
      "('Tartu', '1289 Belém Boulevard')\n",
      "('Escobar', '203 Tambaram Street')\n",
      "('Uluberia', '1704 Tambaram Manor')\n",
      "('Nabereznyje Tšelny', '207 Cuernavaca Loop')\n",
      "('Erlangen', '319 Springs Loop')\n",
      "('Sirjan', '956 Nam Dinh Manor')\n",
      "('Surakarta', '1947 Paarl Way')\n",
      "('El Fuerte', '814 Simferopol Loop')\n",
      "('Abu Dhabi', '535 Ahmadnagar Manor')\n",
      "('Maracaíbo', '138 Caracas Boulevard')\n",
      "('Uruapan', '251 Florencia Drive')\n",
      "('El Alto', '659 Gatineau Boulevard')\n",
      "('Ziguinchor', '1889 Valparai Way')\n",
      "('Rockford', '1485 Bratislava Place')\n",
      "('Tegal', '935 Aden Boulevard')\n",
      "('Qomsheh', '76 Kermanshah Manor')\n",
      "('Florencia', '734 Tanshui Avenue')\n",
      "('Gingoog', '118 Jaffna Loop')\n",
      "('Usolje-Sibirskoje', '1621 Tongliao Avenue')\n",
      "('Halifax', '1844 Usak Avenue')\n",
      "('Rancagua', '1872 Toulon Loop')\n",
      "('Zapopan', '1088 Ibirité Place')\n",
      "('Dongying', '1322 Mosul Parkway')\n",
      "('Cuauhtémoc', '1447 Chatsworth Place')\n",
      "('Bijapur', '1257 Guadalajara Street')\n",
      "('Ourense (Orense)', '1469 Plock Lane')\n",
      "('Hodeida', '434 Ourense (Orense) Manor')\n",
      "('Johannesburg', '270 Tambaram Parkway')\n",
      "('Nam Dinh', '1786 Salinas Place')\n",
      "('Lhokseumawe', '1078 Stara Zagora Drive')\n",
      "('Emmen', '1854 Okara Boulevard')\n",
      "('Šostka', '421 Yaoundé Street')\n",
      "('Gatineau', '1153 Allende Way')\n",
      "('Stockport', '808 Naçala-Porto Parkway')\n",
      "('Ashqelon', '632 Usolje-Sibirskoje Parkway')\n",
      "('Akron', '98 Pyongyang Boulevard')\n",
      "('Gaziantep', '984 Novotšerkassk Loop')\n",
      "('Mwanza', '64 Korla Street')\n",
      "('Coatzacoalcos', '1785 São Bernardo do Campo Street')\n",
      "('Denizli', '698 Jelets Boulevard')\n",
      "('Yinchuan', '1297 Alvorada Parkway')\n",
      "('Shaoguan', '1909 Dayton Avenue')\n",
      "('Acuña', '1789 Saint-Denis Parkway')\n",
      "('Pjatigorsk', '185 Mannheim Lane')\n",
      "('La Paz', '184 Mandaluyong Street')\n",
      "('Okayama', '591 Sungai Petani Drive')\n",
      "('Sogamoso', '656 Matamoros Drive')\n",
      "('Mit Ghamr', '775 Šostka Drive')\n",
      "('Kanchrapara', '1013 Tabuk Boulevard')\n",
      "('Sultanbeyli', '319 Plock Parkway')\n",
      "('Ríobamba', '1954 Kowloon and New Kowloon Way')\n",
      "('Baiyin', '362 Rajkot Lane')\n",
      "('Rizhao', '1060 Tandil Lane')\n",
      "('York', '1515 Korla Way')\n",
      "('Salala', '1416 San Juan Bautista Tuxtepec Avenue')\n",
      "('Brindisi', '1 Valle de Santiago Avenue')\n",
      "('Madiun', '519 Brescia Parkway')\n",
      "('Lublin', '414 Mandaluyong Street')\n",
      "('Siliguri (Shiliguri)', '1197 Sokoto Boulevard')\n",
      "('Ueda', '496 Celaya Drive')\n",
      "('Joliet', '786 Matsue Way')\n",
      "('Talavera', '48 Maracaíbo Place')\n",
      "('Pontianak', '1152 al-Qatif Lane')\n",
      "('Eskisehir', '1269 Ipoh Avenue')\n",
      "('Vijayawada', '758 Korolev Parkway')\n",
      "('Chapra', '1747 Rustenburg Place')\n",
      "('Kamyšin', '886 Tonghae Place')\n",
      "('Suihua', '1574 Goiânia Boulevard')\n",
      "('London', '548 Uruapan Street')\n",
      "('Yangor', '962 Tama Loop')\n",
      "('Zaoyang', '1778 Gijón Manor')\n",
      "('Coquimbo', '568 Dhule (Dhulia) Loop')\n",
      "('Battambang', '1768 Udine Loop')\n",
      "('Chungho', '608 Birgunj Parkway')\n",
      "('Sivas', '680 A Coruña (La Coruña) Manor')\n",
      "('Isesaki', '1949 Sanya Street')\n",
      "('Nha Trang', '617 Klerksdorp Place')\n",
      "('Yingkou', '1993 0 Loop')\n",
      "('Santa Rosa', '1176 Southend-on-Sea Manor')\n",
      "('Vinh', '600 Purnea (Purnia) Avenue')\n",
      "('Purwakarta', '1003 Qinhuangdao Street')\n",
      "('Udine', '1986 Sivas Place')\n",
      "('Cape Coral', '1427 Tabuk Place')\n",
      "('Mogiljov', '556 Asunción Way')\n",
      "('Benguela', '486 Ondo Parkway')\n",
      "('Bhimavaram', '635 Brest Manor')\n",
      "('Ezeiza', '166 Jinchang Street')\n",
      "('Kuwana', '958 Sagamihara Lane')\n",
      "('Cam Ranh', '1817 Livorno Way')\n",
      "('Binzhou', '1332 Gaziantep Lane')\n",
      "('Amroha', '949 Allende Lane')\n",
      "('NDjamna', '195 Ilorin Street')\n",
      "('Tonghae', '193 Bhusawal Place')\n",
      "('Aurora', '43 Vilnius Manor')\n",
      "('Baicheng', '183 Haiphong Street')\n",
      "('Valencia', '163 Augusta-Richmond County Loop')\n",
      "('Ruse', '191 José Azueta Parkway')\n",
      "('Livorno', '379 Lublin Parkway')\n",
      "('Pangkal Pinang', '1658 Cumaná Loop')\n",
      "('Beni-Mellal', '454 Qinhuangdao Drive')\n",
      "('São Bernardo do Campo', '1715 Okayama Street')\n",
      "('Konotop', '182 Nuku´alofa Drive')\n",
      "('Sanya', '390 Wroclaw Way')\n",
      "('Kanazawa', '1421 Quilmes Lane')\n",
      "('Tarlac', '947 Tórshavn Place')\n",
      "('Santiago de Compostela', '1764 Jalib al-Shuyukh Parkway')\n",
      "('Zhoushan', '346 Cam Ranh Avenue')\n",
      "('Alvorada', '1407 Pachuca de Soto Place')\n",
      "('Haining', '904 Clarksville Drive')\n",
      "('Novi Sad', '1917 Kumbakonam Parkway')\n",
      "('Rajkot', '1447 Imus Place')\n",
      "('Chatsworth', '1497 Fengshan Drive')\n",
      "('Southport', '869 Shikarpur Way')\n",
      "('Vilnius', '1059 Yuncheng Avenue')\n",
      "('Wroclaw', '505 Madiun Boulevard')\n",
      "('Bilbays', '1741 Hoshiarpur Boulevard')\n",
      "('Avellaneda', '1229 Varanasi (Benares) Manor')\n",
      "('Garland', '1894 Boa Vista Way')\n",
      "('Sokoto', '1342 Sharja Way')\n",
      "('Bucuresti', '1342 Abha Boulevard')\n",
      "('Xintai', '415 Pune Avenue')\n",
      "('Huánuco', '1746 Faaa Way')\n",
      "('Tokat', '539 Hami Way')\n",
      "('Serpuhov', '1407 Surakarta Manor')\n",
      "('Barcelona', '502 Mandi Bahauddin Parkway')\n",
      "('Leshan', '1052 Pathankot Avenue')\n",
      "('Monclova', '1351 Sousse Lane')\n",
      "('Plock', '1501 Pangkal Pinang Avenue')\n",
      "('Czestochowa', '1405 Hagonoy Avenue')\n",
      "('Zhezqazghan', '521 San Juan Bautista Tuxtepec Place')\n",
      "('Akishima', '923 Tangail Boulevard')\n",
      "('Cuernavaca', '186 Skikda Lane')\n",
      "('Fengshan', '1568 Celaya Parkway')\n",
      "('Tanshui', '1489 Kakamigahara Lane')\n",
      "('Carmen', '1819 Alessandria Loop')\n",
      "('Mosul', '1208 Tama Loop')\n",
      "('Iligan', '951 Springs Lane')\n",
      "('José Azueta', '760 Miyakonojo Drive')\n",
      "('Huejutla de Reyes', '966 Asunción Way')\n",
      "('Southampton', '1584 Ljubertsy Lane')\n",
      "('Banjul', '247 Jining Parkway')\n",
      "('Quilmes', '773 Dallas Manor')\n",
      "('Tsaotun', '1923 Stara Zagora Lane')\n",
      "('Celaya', '1402 Zanzibar Boulevard')\n",
      "('Weifang', '1464 Kursk Parkway')\n",
      "('Loja', '1074 Sanaa Parkway')\n",
      "('al-Manama', '1759 Niznekamsk Avenue')\n",
      "('Juiz de Fora', '32 Liaocheng Way')\n",
      "('Székesfehérvár', '42 Fontana Avenue')\n",
      "('Garden Grove', '1895 Zhezqazghan Drive')\n",
      "('Jining', '1837 Kaduna Parkway')\n",
      "('Jinzhou', '844 Bucuresti Place')\n",
      "('Patras', '1101 Bucuresti Boulevard')\n",
      "('Sullana', '1103 Quilmes Boulevard')\n",
      "('Lausanne', '1331 Usak Boulevard')\n",
      "('Tieli', '1325 Fukuyama Street')\n"
     ]
    }
   ],
   "source": [
    "# sql = \"SELECT \\\n",
    "#   city.city, \\\n",
    "#   address.address \\\n",
    "#   FROM city \\\n",
    "#   INNER JOIN address ON city.city_id = address.city_id\"\n",
    "\n",
    "# lat.execute(sql)\n",
    "\n",
    "# result = lat.fetchall()\n",
    "\n",
    "# for x in result:\n",
    "#   print(x)"
   ]
  },
  {
   "cell_type": "code",
   "execution_count": 307,
   "id": "0594c978",
   "metadata": {},
   "outputs": [
    {
     "name": "stdout",
     "output_type": "stream",
     "text": [
      "('Lethbridge', '47 MySakila Drive')\n",
      "('Woodridge', '28 MySQL Boulevard')\n",
      "('Lethbridge', '23 Workhaven Lane')\n",
      "('Woodridge', '1411 Lillydale Drive')\n",
      "('Sasebo', '1913 Hanoi Way')\n",
      "('San Bernardino', '1121 Loja Avenue')\n",
      "('Athenai', '692 Joliet Street')\n",
      "('Myingyan', '1566 Inegöl Manor')\n",
      "('Nantou', '53 Idfu Parkway')\n",
      "('Laredo', '1795 Santiago de Compostela Way')\n",
      "('Kragujevac', '900 Santiago de Compostela Parkway')\n",
      "('Hamilton', '478 Joliet Way')\n",
      "('Masqat', '613 Korolev Drive')\n",
      "('Esfahan', '1531 Salé Drive')\n",
      "('Sagamihara', '1542 Tarlac Parkway')\n",
      "('Yamuna Nagar', '808 Bhopal Manor')\n",
      "('Osmaniye', '270 Amroha Parkway')\n",
      "('Citrus Heights', '770 Bydgoszcz Avenue')\n",
      "('Bhopal', '419 Iligan Lane')\n",
      "('Southend-on-Sea', '360 Toulouse Parkway')\n",
      "('Elista', '270 Toulon Boulevard')\n",
      "('Kaduna', '320 Brest Avenue')\n",
      "('Kimberley', '1417 Lancaster Avenue')\n",
      "('Mardan', '1688 Okara Way')\n",
      "('Tangail', '262 A Coruña (La Coruña) Parkway')\n",
      "('Salé', '28 Charlotte Amalie Street')\n",
      "('Liepaja', '1780 Hino Boulevard')\n",
      "('Córdoba', '96 Tafuna Way')\n",
      "('Shikarpur', '934 San Felipe de Puerto Plata Street')\n",
      "('Città del Vaticano', '18 Duisburg Boulevard')\n",
      "('Davao', '217 Botshabelo Place')\n",
      "('Munger (Monghyr)', '1425 Shikarpur Manor')\n",
      "('Shimonoseki', '786 Aurora Avenue')\n",
      "('Lungtan', '1668 Anápolis Street')\n",
      "('Kamarhati', '33 Gorontalo Way')\n",
      "('Jhansi', '176 Mandaluyong Place')\n",
      "('Alessandria', '127 Purnea (Purnia) Manor')\n",
      "('Kurashiki', '61 Tama Street')\n",
      "('Toulouse', '391 Callao Drive')\n",
      "('Arak', '334 Munger (Monghyr) Lane')\n",
      "('Nanyang', '1440 Fukuyama Loop')\n",
      "('Chisinau', '269 Cam Ranh Parkway')\n",
      "('Vila Velha', '306 Antofagasta Place')\n",
      "('Nador', '671 Graz Street')\n",
      "('Yerevan', '42 Brindisi Place')\n",
      "('Pak Kret', '1632 Bislig Avenue')\n",
      "('Faaa', '1447 Imus Way')\n",
      "('Lipetsk', '1998 Halifax Drive')\n",
      "('Antofagasta', '1718 Valencia Street')\n",
      "('Moscow', '46 Pjatigorsk Lane')\n",
      "('Juazeiro do Norte', '686 Garland Manor')\n",
      "('Niznekamsk', '909 Garland Manor')\n",
      "('Jedda', '725 Isesaki Place')\n",
      "('Omdurman', '115 Hidalgo Parkway')\n",
      "('Fontana', '1135 Izumisano Parkway')\n",
      "('A Coruña (La Coruña)', '939 Probolinggo Loop')\n",
      "('Nagareyama', '17 Kabul Boulevard')\n",
      "('Iwakuni', '1964 Allappuzha (Alleppey) Street')\n",
      "('Balašiha', '1697 Kowloon and New Kowloon Loop')\n",
      "('Papeete', '1668 Saint Louis Place')\n"
     ]
    }
   ],
   "source": [
    "mydb = mysql.connector.connect(\n",
    "    host = \"localhost\",\n",
    "    user = \"root\",\n",
    "    password = \"\",\n",
    "    database = \"sakila\"\n",
    ")\n",
    "    \n",
    "lat = mydb.cursor()\n",
    "\n",
    "sql = \"SELECT city.city, address.address FROM city INNER JOIN address ON city.city_id = address.city_id\"\n",
    "lat.execute(sql)\n",
    "result = lat.fetchall()\n",
    "\n",
    "for i in range(60):\n",
    "    print(result[i])"
   ]
  }
 ],
 "metadata": {
  "kernelspec": {
   "display_name": "Python 3 (ipykernel)",
   "language": "python",
   "name": "python3"
  },
  "language_info": {
   "codemirror_mode": {
    "name": "ipython",
    "version": 3
   },
   "file_extension": ".py",
   "mimetype": "text/x-python",
   "name": "python",
   "nbconvert_exporter": "python",
   "pygments_lexer": "ipython3",
   "version": "3.11.5"
  }
 },
 "nbformat": 4,
 "nbformat_minor": 5
}
