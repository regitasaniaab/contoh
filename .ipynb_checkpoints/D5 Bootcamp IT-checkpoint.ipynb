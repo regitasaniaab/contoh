{
 "cells": [
  {
   "cell_type": "markdown",
   "id": "3a129baf",
   "metadata": {},
   "source": [
    "# 1"
   ]
  },
  {
   "cell_type": "code",
   "execution_count": 110,
   "id": "9a07474f",
   "metadata": {},
   "outputs": [],
   "source": [
    "f = open(\"teks.txt\", \"w\")\n",
    "f.write(\"Pelatihan kita di LPPI Kemang dengan waktu yang telah ditentukan!!\")\n",
    "f.close()"
   ]
  },
  {
   "cell_type": "code",
   "execution_count": 111,
   "id": "c5f8f9ad",
   "metadata": {},
   "outputs": [],
   "source": [
    "f = open(\"teks.txt\", \"r\")\n",
    "f.read()\n",
    "f.close()"
   ]
  },
  {
   "cell_type": "code",
   "execution_count": 112,
   "id": "49bc84a3",
   "metadata": {},
   "outputs": [],
   "source": [
    "import re\n",
    "def modify(file, char):\n",
    "    with open('teks.txt') as f:\n",
    "        lines = [line.rstrip('\\n') for line in f]\n",
    "    lines = lines[0].split()\n",
    "    awal = lines[:char]\n",
    "    akhir = lines[char:]\n",
    "    \n",
    "    f = open('teks.txt', 'w') #w write (menimpa yg sebelumnya)\n",
    "    f.write(' '.join([str(i) for i in awal]) + ' dari pagi sampai sore ' \n",
    "            + ' '.join([str(i) for i in akhir]))\n",
    "    f.close()"
   ]
  },
  {
   "cell_type": "code",
   "execution_count": 113,
   "id": "2fc90d55",
   "metadata": {},
   "outputs": [],
   "source": [
    "modify('teks.txt', 6)"
   ]
  },
  {
   "cell_type": "code",
   "execution_count": 114,
   "id": "feb4a749",
   "metadata": {},
   "outputs": [
    {
     "data": {
      "text/plain": [
       "'Pelatihan kita di LPPI Kemang dengan dari pagi sampai sore waktu yang telah ditentukan!!'"
      ]
     },
     "execution_count": 114,
     "metadata": {},
     "output_type": "execute_result"
    }
   ],
   "source": [
    "f = open('teks.txt')\n",
    "f.read()"
   ]
  },
  {
   "cell_type": "markdown",
   "id": "1397648c",
   "metadata": {},
   "source": [
    "# 2"
   ]
  },
  {
   "cell_type": "code",
   "execution_count": 61,
   "id": "0a21be13",
   "metadata": {},
   "outputs": [
    {
     "name": "stdout",
     "output_type": "stream",
     "text": [
      "Nama : Ani\n",
      "Ruang : a\n",
      "Skema : a\n"
     ]
    }
   ],
   "source": [
    "def writing(nama):\n",
    "    with open('ex2.txt', 'a') as f:\n",
    "        f.write(f'Hasil perhitungan Desimal, Octal, Biner, dan Hexa dari huruf {nama} adalah \\n')\n",
    "        \n",
    "    result = ''\n",
    "\n",
    "    for i in range(len(nama)):\n",
    "        desimal1 = ord(nama[i])\n",
    "\n",
    "        biner = ''\n",
    "        oktal = ''\n",
    "        hexa = ''\n",
    "\n",
    "        #binary\n",
    "        desimal = desimal1\n",
    "        while desimal > 0:\n",
    "            sisa = desimal % 2\n",
    "            biner = str(sisa) + biner\n",
    "            desimal //= 2\n",
    "\n",
    "        #octal\n",
    "        desimal = desimal1\n",
    "        while desimal > 0:\n",
    "            sisa = desimal % 8\n",
    "            oktal = str(sisa) + oktal\n",
    "            desimal //= 8\n",
    "\n",
    "        #hexadecimal\n",
    "        hex_chars = \"0123456789ABCDEF\"\n",
    "        desimal = desimal1\n",
    "        while desimal > 0:\n",
    "             sisa = desimal % 16\n",
    "             hexa = hex_chars[sisa] + hexa\n",
    "             desimal //= 16\n",
    "        \n",
    "        result = f\"{nama[i]} = {desimal1}, {biner}, {oktal}, {hexa} \\n\"\n",
    "        \n",
    "        f = open('ex2.txt', 'a')\n",
    "        f.write(result)\n",
    "        f.close()\n",
    "        \n",
    "nama = input(\"Nama : \")\n",
    "ruang = input(\"Ruang : \")\n",
    "Skema = input(\"Skema : \")\n",
    "writing(nama)"
   ]
  },
  {
   "cell_type": "markdown",
   "id": "94a52634",
   "metadata": {},
   "source": [
    "# 3"
   ]
  },
  {
   "cell_type": "code",
   "execution_count": 34,
   "id": "3f8b99d7",
   "metadata": {
    "scrolled": true
   },
   "outputs": [
    {
     "name": "stdout",
     "output_type": "stream",
     "text": [
      "Requirement already satisfied: mysql-connector-python in /Users/regita/anaconda3/lib/python3.11/site-packages (8.3.0)\n",
      "Note: you may need to restart the kernel to use updated packages.\n"
     ]
    }
   ],
   "source": [
    "pip install mysql-connector-python"
   ]
  },
  {
   "cell_type": "code",
   "execution_count": 116,
   "id": "f45bc782",
   "metadata": {},
   "outputs": [],
   "source": [
    "import mysql.connector"
   ]
  },
  {
   "cell_type": "code",
   "execution_count": 117,
   "id": "b3ff0a73",
   "metadata": {},
   "outputs": [],
   "source": [
    "mydb = mysql.connector.connect(\n",
    "    host = \"localhost\",\n",
    "    user = \"root\",\n",
    "    password = \"\",\n",
    "    database = \"sakila\"\n",
    ")"
   ]
  },
  {
   "cell_type": "code",
   "execution_count": 118,
   "id": "1996f836",
   "metadata": {},
   "outputs": [],
   "source": [
    "lat = mydb.cursor()"
   ]
  },
  {
   "cell_type": "code",
   "execution_count": 131,
   "id": "ee48bfd9",
   "metadata": {},
   "outputs": [
    {
     "name": "stdout",
     "output_type": "stream",
     "text": [
      "1 record inserted.\n"
     ]
    }
   ],
   "source": [
    "sql = \"INSERT INTO actor (first_name, last_name, ) VALUES (%s, %s)\"\n",
    "val = (\"John\", \"Highway\")\n",
    "lat.execute(sql, val)\n",
    "\n",
    "mydb.commit()\n",
    "\n",
    "print(lat.rowcount, \"record(s) inserted.\")"
   ]
  },
  {
   "cell_type": "code",
   "execution_count": 136,
   "id": "b6cf377e",
   "metadata": {},
   "outputs": [
    {
     "name": "stdout",
     "output_type": "stream",
     "text": [
      "1 record inserted.\n"
     ]
    }
   ],
   "source": [
    "sql = \"UPDATE actor SET first_name=%s, last_name=%s WHERE actor_id=%s\"\n",
    "val = (\"Anne\", \"Gal\", 202)\n",
    "lat.execute(sql, val)\n",
    "\n",
    "mydb.commit()\n",
    "\n",
    "print(lat.rowcount, \"record(s) updated.\")"
   ]
  },
  {
   "cell_type": "code",
   "execution_count": 145,
   "id": "4188b565",
   "metadata": {},
   "outputs": [
    {
     "name": "stdout",
     "output_type": "stream",
     "text": [
      "2 record(s) inserted.\n"
     ]
    }
   ],
   "source": [
    "sql = \"INSERT INTO actor (first_name, last_name) VALUES (%s, %s)\"\n",
    "val = [\n",
    "    (\"Michele\", \"Choi\"),\n",
    "    (\"Nelly\", \"Carpenter\")\n",
    "]\n",
    "lat.executemany(sql, val)\n",
    "\n",
    "mydb.commit()\n",
    "\n",
    "print(lat.rowcount, \"record(s) inserted.\")"
   ]
  },
  {
   "cell_type": "code",
   "execution_count": 161,
   "id": "1f7f6db4",
   "metadata": {},
   "outputs": [
    {
     "name": "stdout",
     "output_type": "stream",
     "text": [
      "0 record(s) inserted.\n"
     ]
    }
   ],
   "source": [
    "sql = \"DELETE FROM actor WHERE actor_id = 201\"\n",
    "# sql = \"DELETE FROM actor WHERE actor_id = 201 AND actor_id = 202\"\n",
    "lat.execute(sql)\n",
    "\n",
    "mydb.commit()\n",
    "\n",
    "print(lat.rowcount, \"record(s) deleted.\")"
   ]
  },
  {
   "cell_type": "code",
   "execution_count": 162,
   "id": "2e878078",
   "metadata": {},
   "outputs": [
    {
     "name": "stderr",
     "output_type": "stream",
     "text": [
      "/var/folders/hz/213j1qjd4cx4s8qq5rvxmsy40000gn/T/ipykernel_2913/1794206031.py:4: UserWarning: pandas only supports SQLAlchemy connectable (engine/connection) or database string URI or sqlite3 DBAPI2 connection. Other DBAPI2 objects are not tested. Please consider using SQLAlchemy.\n",
      "  sql_query = pd.read_sql_query ('''\n"
     ]
    },
    {
     "data": {
      "text/html": [
       "<div>\n",
       "<style scoped>\n",
       "    .dataframe tbody tr th:only-of-type {\n",
       "        vertical-align: middle;\n",
       "    }\n",
       "\n",
       "    .dataframe tbody tr th {\n",
       "        vertical-align: top;\n",
       "    }\n",
       "\n",
       "    .dataframe thead th {\n",
       "        text-align: right;\n",
       "    }\n",
       "</style>\n",
       "<table border=\"1\" class=\"dataframe\">\n",
       "  <thead>\n",
       "    <tr style=\"text-align: right;\">\n",
       "      <th></th>\n",
       "      <th>actor_id</th>\n",
       "      <th>first_name</th>\n",
       "      <th>last_name</th>\n",
       "      <th>last_update</th>\n",
       "    </tr>\n",
       "  </thead>\n",
       "  <tbody>\n",
       "    <tr>\n",
       "      <th>0</th>\n",
       "      <td>1</td>\n",
       "      <td>PENELOPE</td>\n",
       "      <td>GUINESS</td>\n",
       "      <td>2006-02-15 04:34:33</td>\n",
       "    </tr>\n",
       "    <tr>\n",
       "      <th>1</th>\n",
       "      <td>2</td>\n",
       "      <td>NICK</td>\n",
       "      <td>WAHLBERG</td>\n",
       "      <td>2006-02-15 04:34:33</td>\n",
       "    </tr>\n",
       "    <tr>\n",
       "      <th>2</th>\n",
       "      <td>3</td>\n",
       "      <td>ED</td>\n",
       "      <td>CHASE</td>\n",
       "      <td>2006-02-15 04:34:33</td>\n",
       "    </tr>\n",
       "    <tr>\n",
       "      <th>3</th>\n",
       "      <td>4</td>\n",
       "      <td>JENNIFER</td>\n",
       "      <td>DAVIS</td>\n",
       "      <td>2006-02-15 04:34:33</td>\n",
       "    </tr>\n",
       "    <tr>\n",
       "      <th>4</th>\n",
       "      <td>5</td>\n",
       "      <td>JOHNNY</td>\n",
       "      <td>LOLLOBRIGIDA</td>\n",
       "      <td>2006-02-15 04:34:33</td>\n",
       "    </tr>\n",
       "    <tr>\n",
       "      <th>...</th>\n",
       "      <td>...</td>\n",
       "      <td>...</td>\n",
       "      <td>...</td>\n",
       "      <td>...</td>\n",
       "    </tr>\n",
       "    <tr>\n",
       "      <th>198</th>\n",
       "      <td>199</td>\n",
       "      <td>JULIA</td>\n",
       "      <td>FAWCETT</td>\n",
       "      <td>2006-02-15 04:34:33</td>\n",
       "    </tr>\n",
       "    <tr>\n",
       "      <th>199</th>\n",
       "      <td>200</td>\n",
       "      <td>THORA</td>\n",
       "      <td>TEMPLE</td>\n",
       "      <td>2006-02-15 04:34:33</td>\n",
       "    </tr>\n",
       "    <tr>\n",
       "      <th>200</th>\n",
       "      <td>202</td>\n",
       "      <td>Anne</td>\n",
       "      <td>Gal</td>\n",
       "      <td>2024-02-02 13:47:07</td>\n",
       "    </tr>\n",
       "    <tr>\n",
       "      <th>201</th>\n",
       "      <td>203</td>\n",
       "      <td>Michele</td>\n",
       "      <td>Choi</td>\n",
       "      <td>2024-02-02 13:54:38</td>\n",
       "    </tr>\n",
       "    <tr>\n",
       "      <th>202</th>\n",
       "      <td>204</td>\n",
       "      <td>Nelly</td>\n",
       "      <td>Carpenter</td>\n",
       "      <td>2024-02-02 13:54:38</td>\n",
       "    </tr>\n",
       "  </tbody>\n",
       "</table>\n",
       "<p>203 rows × 4 columns</p>\n",
       "</div>"
      ],
      "text/plain": [
       "     actor_id first_name     last_name         last_update\n",
       "0           1   PENELOPE       GUINESS 2006-02-15 04:34:33\n",
       "1           2       NICK      WAHLBERG 2006-02-15 04:34:33\n",
       "2           3         ED         CHASE 2006-02-15 04:34:33\n",
       "3           4   JENNIFER         DAVIS 2006-02-15 04:34:33\n",
       "4           5     JOHNNY  LOLLOBRIGIDA 2006-02-15 04:34:33\n",
       "..        ...        ...           ...                 ...\n",
       "198       199      JULIA       FAWCETT 2006-02-15 04:34:33\n",
       "199       200      THORA        TEMPLE 2006-02-15 04:34:33\n",
       "200       202       Anne           Gal 2024-02-02 13:47:07\n",
       "201       203    Michele          Choi 2024-02-02 13:54:38\n",
       "202       204      Nelly     Carpenter 2024-02-02 13:54:38\n",
       "\n",
       "[203 rows x 4 columns]"
      ]
     },
     "execution_count": 162,
     "metadata": {},
     "output_type": "execute_result"
    }
   ],
   "source": [
    "lat.execute(\"select * from film\")\n",
    "myresult = lat.fetchall()\n",
    "\n",
    "sql_query = pd.read_sql_query ('''\n",
    "                               SELECT * FROM actor\n",
    "                               ''', mydb)\n",
    "\n",
    "df = pd.DataFrame(sql_query)\n",
    "df"
   ]
  },
  {
   "cell_type": "code",
   "execution_count": 182,
   "id": "8b1f7a30",
   "metadata": {},
   "outputs": [
    {
     "data": {
      "text/plain": [
       "Index(['actor_id', 'first_name', 'last_name', 'last_update'], dtype='object')"
      ]
     },
     "execution_count": 182,
     "metadata": {},
     "output_type": "execute_result"
    }
   ],
   "source": [
    "df.columns"
   ]
  },
  {
   "cell_type": "code",
   "execution_count": 163,
   "id": "43fd6ff3",
   "metadata": {},
   "outputs": [
    {
     "data": {
      "text/plain": [
       "actor_id                int64\n",
       "first_name             object\n",
       "last_name              object\n",
       "last_update    datetime64[ns]\n",
       "dtype: object"
      ]
     },
     "execution_count": 163,
     "metadata": {},
     "output_type": "execute_result"
    }
   ],
   "source": [
    "df.dtypes"
   ]
  },
  {
   "cell_type": "code",
   "execution_count": null,
   "id": "5eedb047",
   "metadata": {},
   "outputs": [],
   "source": []
  },
  {
   "cell_type": "code",
   "execution_count": 170,
   "id": "1aa92152",
   "metadata": {},
   "outputs": [
    {
     "data": {
      "text/html": [
       "<div>\n",
       "<style scoped>\n",
       "    .dataframe tbody tr th:only-of-type {\n",
       "        vertical-align: middle;\n",
       "    }\n",
       "\n",
       "    .dataframe tbody tr th {\n",
       "        vertical-align: top;\n",
       "    }\n",
       "\n",
       "    .dataframe thead th {\n",
       "        text-align: right;\n",
       "    }\n",
       "</style>\n",
       "<table border=\"1\" class=\"dataframe\">\n",
       "  <thead>\n",
       "    <tr style=\"text-align: right;\">\n",
       "      <th></th>\n",
       "      <th>first_name</th>\n",
       "      <th>last_name</th>\n",
       "    </tr>\n",
       "  </thead>\n",
       "  <tbody>\n",
       "    <tr>\n",
       "      <th>count</th>\n",
       "      <td>203</td>\n",
       "      <td>203</td>\n",
       "    </tr>\n",
       "    <tr>\n",
       "      <th>unique</th>\n",
       "      <td>131</td>\n",
       "      <td>124</td>\n",
       "    </tr>\n",
       "    <tr>\n",
       "      <th>top</th>\n",
       "      <td>PENELOPE</td>\n",
       "      <td>KILMER</td>\n",
       "    </tr>\n",
       "    <tr>\n",
       "      <th>freq</th>\n",
       "      <td>4</td>\n",
       "      <td>5</td>\n",
       "    </tr>\n",
       "  </tbody>\n",
       "</table>\n",
       "</div>"
      ],
      "text/plain": [
       "       first_name last_name\n",
       "count         203       203\n",
       "unique        131       124\n",
       "top      PENELOPE    KILMER\n",
       "freq            4         5"
      ]
     },
     "execution_count": 170,
     "metadata": {},
     "output_type": "execute_result"
    }
   ],
   "source": [
    "df[['first_name', 'last_name']].describe()"
   ]
  },
  {
   "cell_type": "code",
   "execution_count": 171,
   "id": "8a3e286b",
   "metadata": {},
   "outputs": [
    {
     "data": {
      "text/plain": [
       "count                              203\n",
       "mean     2006-05-23 03:46:02.477832192\n",
       "min                2006-02-15 04:34:33\n",
       "25%                2006-02-15 04:34:33\n",
       "50%                2006-02-15 04:34:33\n",
       "75%                2006-02-15 04:34:33\n",
       "max                2024-02-02 13:54:38\n",
       "Name: last_update, dtype: object"
      ]
     },
     "execution_count": 171,
     "metadata": {},
     "output_type": "execute_result"
    }
   ],
   "source": [
    "df['last_update'].describe()"
   ]
  },
  {
   "cell_type": "code",
   "execution_count": 172,
   "id": "8a5e1862",
   "metadata": {},
   "outputs": [
    {
     "data": {
      "text/plain": [
       "203"
      ]
     },
     "execution_count": 172,
     "metadata": {},
     "output_type": "execute_result"
    }
   ],
   "source": [
    "len(df)"
   ]
  },
  {
   "cell_type": "code",
   "execution_count": 180,
   "id": "6c2984f0",
   "metadata": {},
   "outputs": [
    {
     "data": {
      "text/plain": [
       "actor_id       0\n",
       "first_name     0\n",
       "last_name      0\n",
       "last_update    0\n",
       "dtype: int64"
      ]
     },
     "execution_count": 180,
     "metadata": {},
     "output_type": "execute_result"
    }
   ],
   "source": [
    "df.isnull().sum()"
   ]
  }
 ],
 "metadata": {
  "kernelspec": {
   "display_name": "Python 3 (ipykernel)",
   "language": "python",
   "name": "python3"
  },
  "language_info": {
   "codemirror_mode": {
    "name": "ipython",
    "version": 3
   },
   "file_extension": ".py",
   "mimetype": "text/x-python",
   "name": "python",
   "nbconvert_exporter": "python",
   "pygments_lexer": "ipython3",
   "version": "3.11.5"
  }
 },
 "nbformat": 4,
 "nbformat_minor": 5
}
